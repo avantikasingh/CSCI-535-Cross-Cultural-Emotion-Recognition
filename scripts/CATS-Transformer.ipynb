{
  "cells": [
    {
      "cell_type": "code",
      "execution_count": null,
      "metadata": {
        "id": "hbS2vY-Ne8bJ"
      },
      "outputs": [],
      "source": [
        "# from LMlstm import SIFT_LSTM\n",
        "# from loadLabels import load_labels\n",
        "import torch\n",
        "import torch.nn as nn\n",
        "# from loadfeat import load_FeatfromCSV,split_train_val\n",
        "from torch.nn.utils.rnn import pad_sequence\n",
        "from torch.utils.data import Dataset,DataLoader\n",
        "import torch.nn.functional as F\n",
        "import math\n",
        "from sklearn.metrics import mean_squared_error, mean_absolute_error, r2_score\n",
        "from sklearn.model_selection import train_test_split"
      ]
    },
    {
      "cell_type": "code",
      "execution_count": null,
      "metadata": {
        "id": "iK8CyKzgjx_e"
      },
      "outputs": [],
      "source": [
        "import os\n",
        "import pandas as pd\n",
        "from sklearn.preprocessing import MinMaxScaler\n",
        "import numpy as np\n",
        "import librosa\n",
        "import glob"
      ]
    },
    {
      "cell_type": "code",
      "source": [
        "import numpy as np\n",
        "from scipy.stats import pearsonr\n"
      ],
      "metadata": {
        "id": "ikHgu5d7j6GC"
      },
      "execution_count": null,
      "outputs": []
    },
    {
      "cell_type": "code",
      "execution_count": null,
      "metadata": {
        "colab": {
          "base_uri": "https://localhost:8080/"
        },
        "id": "M-dALJUxjMo8",
        "outputId": "54411039-6782-4a47-8208-f5f47916fa42"
      },
      "outputs": [
        {
          "output_type": "stream",
          "name": "stdout",
          "text": [
            "Mounted at /content/drive\n"
          ]
        }
      ],
      "source": [
        "from google.colab import drive\n",
        "drive.mount('/content/drive')\n"
      ]
    },
    {
      "cell_type": "markdown",
      "source": [
        "# Model"
      ],
      "metadata": {
        "id": "nAHQ3Gzmad1I"
      }
    },
    {
      "cell_type": "markdown",
      "source": [
        "## Time series Transformer"
      ],
      "metadata": {
        "id": "71H93zyOaiue"
      }
    },
    {
      "cell_type": "code",
      "execution_count": null,
      "metadata": {
        "id": "g_pKQ7t8e8bN",
        "outputId": "4331537e-b247-4893-8089-2f43e790a353",
        "colab": {
          "base_uri": "https://localhost:8080/",
          "height": 211
        }
      },
      "outputs": [
        {
          "output_type": "error",
          "ename": "NameError",
          "evalue": "name 'nn' is not defined",
          "traceback": [
            "\u001b[0;31m---------------------------------------------------------------------------\u001b[0m",
            "\u001b[0;31mNameError\u001b[0m                                 Traceback (most recent call last)",
            "\u001b[0;32m<ipython-input-1-df66c16621b4>\u001b[0m in \u001b[0;36m<cell line: 1>\u001b[0;34m()\u001b[0m\n\u001b[0;32m----> 1\u001b[0;31m \u001b[0;32mclass\u001b[0m \u001b[0mChannelAttention\u001b[0m\u001b[0;34m(\u001b[0m\u001b[0mnn\u001b[0m\u001b[0;34m.\u001b[0m\u001b[0mModule\u001b[0m\u001b[0;34m)\u001b[0m\u001b[0;34m:\u001b[0m\u001b[0;34m\u001b[0m\u001b[0;34m\u001b[0m\u001b[0m\n\u001b[0m\u001b[1;32m      2\u001b[0m     \u001b[0;32mdef\u001b[0m \u001b[0m__init__\u001b[0m\u001b[0;34m(\u001b[0m\u001b[0mself\u001b[0m\u001b[0;34m,\u001b[0m \u001b[0min_channels\u001b[0m\u001b[0;34m,\u001b[0m \u001b[0mreduction_ratio\u001b[0m\u001b[0;34m=\u001b[0m\u001b[0;36m16\u001b[0m\u001b[0;34m)\u001b[0m\u001b[0;34m:\u001b[0m\u001b[0;34m\u001b[0m\u001b[0;34m\u001b[0m\u001b[0m\n\u001b[1;32m      3\u001b[0m         \u001b[0msuper\u001b[0m\u001b[0;34m(\u001b[0m\u001b[0mChannelAttention\u001b[0m\u001b[0;34m,\u001b[0m \u001b[0mself\u001b[0m\u001b[0;34m)\u001b[0m\u001b[0;34m.\u001b[0m\u001b[0m__init__\u001b[0m\u001b[0;34m(\u001b[0m\u001b[0;34m)\u001b[0m\u001b[0;34m\u001b[0m\u001b[0;34m\u001b[0m\u001b[0m\n\u001b[1;32m      4\u001b[0m         self.fc = nn.Sequential(\n\u001b[1;32m      5\u001b[0m             \u001b[0mnn\u001b[0m\u001b[0;34m.\u001b[0m\u001b[0mLinear\u001b[0m\u001b[0;34m(\u001b[0m\u001b[0min_channels\u001b[0m\u001b[0;34m,\u001b[0m \u001b[0min_channels\u001b[0m \u001b[0;34m//\u001b[0m \u001b[0mreduction_ratio\u001b[0m\u001b[0;34m)\u001b[0m\u001b[0;34m,\u001b[0m\u001b[0;34m\u001b[0m\u001b[0;34m\u001b[0m\u001b[0m\n",
            "\u001b[0;31mNameError\u001b[0m: name 'nn' is not defined"
          ]
        }
      ],
      "source": [
        "\n",
        "class ChannelAttention(nn.Module):\n",
        "    def __init__(self, in_channels, reduction_ratio=16):\n",
        "        super(ChannelAttention, self).__init__()\n",
        "        self.fc = nn.Sequential(\n",
        "            nn.Linear(in_channels, in_channels // reduction_ratio),\n",
        "            nn.ReLU(inplace=True),\n",
        "            nn.Linear(in_channels // reduction_ratio, in_channels)\n",
        "        )\n",
        "\n",
        "    def forward(self, x):\n",
        "        # 在 seq_len 维度上进行平均池化\n",
        "        avg_pooled_tensor = torch.mean(x, dim=1, keepdim=True)  # 输出大小为 (batch_size, 1, input_dim)\n",
        "        max_pooled_tensor, _ = torch.max(x, dim=1, keepdim=True)  # 输出大小为 (batch_size, 1, input_dim)\n",
        "\n",
        "        # print(f'{avg_pooled_tensor.shape=}')\n",
        "        avg_out = self.fc(avg_pooled_tensor.squeeze(1)).unsqueeze(1)\n",
        "        # print(f'{avg_out.shape=}')\n",
        "        max_out = self.fc(max_pooled_tensor.squeeze(1)).unsqueeze(1)\n",
        "        combined = avg_out + max_out\n",
        "        # print(f'{combined.shape=}')\n",
        "        attention_weights = torch.sigmoid(combined)\n",
        "        return attention_weights\n",
        "\n",
        "\n",
        "class PositionalEncoding(nn.Module):\n",
        "    def __init__(self, d_model, max_seq_length):\n",
        "        super(PositionalEncoding, self).__init__()\n",
        "        self.dropout = nn.Dropout(p=0.1)\n",
        "\n",
        "        # Initialize positional encoding matrix\n",
        "        pe = torch.zeros(max_seq_length, d_model)\n",
        "        position = torch.arange(0, max_seq_length, dtype=torch.float).unsqueeze(1)\n",
        "        div_term = torch.exp(torch.arange(0, d_model, 2).float() * (-math.log(10000.0) / d_model))\n",
        "        pe[:, 0::2] = torch.sin(position * div_term)\n",
        "        pe[:, 1::2] = torch.cos(position * div_term)\n",
        "        pe = pe.unsqueeze(0)\n",
        "\n",
        "        self.register_buffer('pe', pe)\n",
        "\n",
        "    def forward(self, x):\n",
        "        # Add positional encoding to the input tensor\n",
        "        x = x + self.pe[:, :x.size(1)]\n",
        "        return self.dropout(x)\n",
        "\n",
        "\n",
        "class RegressionTransformer(nn.Module):\n",
        "    def __init__(self, args):\n",
        "        super(RegressionTransformer, self).__init__()\n",
        "        self.args = args\n",
        "        # embed_dim = head_dim * num_heads?\n",
        "        self.embedding = nn.Linear(args['input_size'], args['d_model'])\n",
        "        self.channel_attention = ChannelAttention(args['input_size'])\n",
        "        self.output_fc = nn.Linear(args['input_size'], args['d_model'])\n",
        "        self.position_encoding = PositionalEncoding(args['d_model'], args['aligned_len'])  # Positional encoding layer\n",
        "        encoder_layer = nn.TransformerEncoderLayer(\n",
        "            d_model=args['d_model'],\n",
        "            nhead=8,\n",
        "            dim_feedforward=4 * args['d_model'],\n",
        "            batch_first=True,\n",
        "            dropout=0.1,\n",
        "            device=args['device']\n",
        "        )\n",
        "        decoder_layer = nn.TransformerDecoderLayer(\n",
        "            d_model=args['d_model'],\n",
        "            nhead=8,\n",
        "            dropout=0.1,\n",
        "            dim_feedforward=4 * args['d_model'],\n",
        "            batch_first=True,\n",
        "            device=args['device']\n",
        "        )\n",
        "        self.encoder = torch.nn.TransformerEncoder(encoder_layer, num_layers=5)\n",
        "        self.decoder = torch.nn.TransformerDecoder(decoder_layer, num_layers=5)\n",
        "        self.fc = nn.Linear(args['d_model'], args['output_size'])\n",
        "        self.fc1 = nn.Linear(args['aligned_len'] * args['d_model'], args['d_model'])\n",
        "        self.fc2 = nn.Linear(args['d_model'], args['output_size'])\n",
        "\n",
        "        self.aligned_len = args['aligned_len']\n",
        "        self.input_atten_mask = self._generate_square_subsequent_mask(args['aligned_len'])\n",
        "\n",
        "    def forward(self, x, y, input_mask, tgt_mask):\n",
        "\n",
        "        input_atten_mask = self.input_atten_mask # shape(batchsize,seqlen,seqlen)\n",
        "\n",
        "        # x_channel_attention = self.channel_attention(x)  # shape(batchsize, 1, 1, d_model)\n",
        "\n",
        "        # x = x * x_channel_attention  # 对输入 x 加权\n",
        "\n",
        "        x = self.embedding(x) # x shape(batchsize,seqlen,d_model)\n",
        "\n",
        "        x = self.position_encoding(x)  # x shape(batchsize,seqlen,d_model)\n",
        "\n",
        "        x = self.encoder(src=x, mask=input_atten_mask, src_key_padding_mask=input_mask) # x shape(batchsize,seqlen,d_model)\n",
        "\n",
        "        # print(f'{y.shape=}_{x.shape=}')\n",
        "        extend_y=y.expand(-1, -1, self.args['d_model'])\n",
        "        x = self.decoder(tgt=extend_y, memory=x, tgt_mask=input_atten_mask, memory_mask=input_atten_mask, tgt_is_causal=True, memory_is_causal=True) # x shape(batchsize,seqlen,d_model)\n",
        "\n",
        "        x = self.fc(x) # x shape(batchsize,seqlen,1)\n",
        "\n",
        "        return x\n",
        "\n",
        "\n",
        "\n",
        "\n",
        "    def _generate_square_subsequent_mask(self, size):\n",
        "        mask = (torch.triu(torch.ones(size, size)) == 1).transpose(0, 1)\n",
        "        mask = mask.float().masked_fill(mask == 0, float('-inf')).masked_fill(mask == 1, float(0.0))\n",
        "        mask = mask.bool()\n",
        "        mask = mask.to(self.args['device'])\n",
        "        return mask\n"
      ]
    },
    {
      "cell_type": "markdown",
      "source": [
        "### example of attention mask"
      ],
      "metadata": {
        "id": "lcsK3qcScogz"
      }
    },
    {
      "cell_type": "code",
      "source": [
        "def generate_square_subsequent_mask(size):\n",
        "        mask = (torch.triu(torch.ones(size, size)) == 1).transpose(0, 1)\n",
        "        mask = mask.float().masked_fill(mask == 0, float('-inf')).masked_fill(mask == 1, float(0.0))\n",
        "        mask = mask.bool()\n",
        "        return mask\n",
        "\n",
        "# example of subsequent_mask\n",
        "size = 6\n",
        "mask = generate_square_subsequent_mask(size)\n",
        "print(\"Test Case 1:\")\n",
        "print(mask)\n"
      ],
      "metadata": {
        "colab": {
          "base_uri": "https://localhost:8080/"
        },
        "id": "MnUSn6vecn4I",
        "outputId": "88ca3055-3285-4a08-b201-4735448f656b"
      },
      "execution_count": null,
      "outputs": [
        {
          "output_type": "stream",
          "name": "stdout",
          "text": [
            "Test Case 1:\n",
            "tensor([[False,  True,  True,  True,  True,  True],\n",
            "        [False, False,  True,  True,  True,  True],\n",
            "        [False, False, False,  True,  True,  True],\n",
            "        [False, False, False, False,  True,  True],\n",
            "        [False, False, False, False, False,  True],\n",
            "        [False, False, False, False, False, False]])\n"
          ]
        }
      ]
    },
    {
      "cell_type": "markdown",
      "source": [
        "# Dataset and Dataloader"
      ],
      "metadata": {
        "id": "wcpVe9VGa4bw"
      }
    },
    {
      "cell_type": "markdown",
      "source": [
        "## Dataset definition"
      ],
      "metadata": {
        "id": "2YGNID-Ua_mc"
      }
    },
    {
      "cell_type": "code",
      "execution_count": null,
      "metadata": {
        "id": "sbTNriBAe8bO"
      },
      "outputs": [],
      "source": [
        "class SEWADataset(Dataset):\n",
        "    \"\"\"\n",
        "    Dataset definition\n",
        "\n",
        "    \"\"\"\n",
        "    def __init__(self, dataset, labels, maxlen, transform=None):\n",
        "        self.dataset=dataset\n",
        "        self.labels = labels  # Added feature_type argument\n",
        "        self.transform = transform\n",
        "        self.maxlen=maxlen\n",
        "\n",
        "    def __len__(self):\n",
        "        return len(self.dataset)\n",
        "\n",
        "    def __getitem__(self, idx):\n",
        "        feature=self.dataset[idx]\n",
        "        label = self.labels[idx]\n",
        "\n",
        "\n",
        "         # Convert feature to torch.float32\n",
        "        feature = torch.tensor(feature, dtype=torch.float32)\n",
        "        # Convert label to torch.float32\n",
        "        label = torch.tensor(label, dtype=torch.float32)\n",
        "\n",
        "        # print(f'{label.shape[0]=}_{self.maxlen=}')\n",
        "        pad_len = self.maxlen - label.shape[0]\n",
        "        if pad_len > 0:\n",
        "            # print(f'before padding{feature.size()=}')\n",
        "            feature = torch.nn.functional.pad(feature, (0, 0, 0, pad_len), value=0)\n",
        "            # print(f'after padding{feature.size()=}')\n",
        "            # print(f'before padding{label.size()=}')\n",
        "            # label = torch.nn.functional.pad(label, (0,pad_len), value=0)  # Assuming -1 represents padding for labels\n",
        "            padding_length = self.maxlen - label.shape[0]\n",
        "            padding = torch.zeros(padding_length, 1)\n",
        "            label = torch.cat((label, padding), dim=0)\n",
        "\n",
        "            # print(f'after padding {label.size()=}')\n",
        "\n",
        "        if pad_len < 0:\n",
        "\n",
        "            feature = feature[:self.maxlen]\n",
        "            label = label[:self.maxlen]\n",
        "\n",
        "\n",
        "        # Generate feature and label masks\n",
        "        feature_mask = torch.zeros(self.maxlen)\n",
        "        label_mask = torch.zeros(self.maxlen)\n",
        "        if pad_len > 0:\n",
        "            feature_mask[pad_len:] = 1  # Set mask to 1 for padded positions\n",
        "            label_mask[pad_len:] = 1  # Set mask to 1 for padded positions\n",
        "\n",
        "\n",
        "        if self.transform:\n",
        "            feature = self.transform(feature)\n",
        "\n",
        "        return feature, label,feature_mask,label_mask\n",
        "    def get_all_labels(self):\n",
        "            return self.labels"
      ]
    },
    {
      "cell_type": "markdown",
      "source": [
        "## Dataloader definition"
      ],
      "metadata": {
        "id": "xdnJ7GzybB1N"
      }
    },
    {
      "cell_type": "code",
      "execution_count": null,
      "metadata": {
        "id": "Kp4wJI0re8bO"
      },
      "outputs": [],
      "source": [
        "class SEWAdataLoader(DataLoader):\n",
        "    \"\"\"\n",
        "\n",
        "    \"\"\"\n",
        "    def __init__(self, dataset, batch_size=1, shuffle=False, num_workers=0):\n",
        "        super(SEWAdataLoader, self).__init__(dataset, batch_size=batch_size, shuffle=shuffle, num_workers=num_workers)\n",
        "\n",
        "\n",
        "\n",
        "    def __iter__(self):\n",
        "\n",
        "                for idx in range(0, len(self.dataset), self.batch_size):\n",
        "                    # get current mini-batch sample\n",
        "                    batch_data = []\n",
        "                    for i in range(idx, min(idx + self.batch_size, len(self.dataset))):\n",
        "                        batch_data.append(self.dataset[i])\n",
        "\n",
        "                    # Obtain the features and labels of each sample in the current mini-batch\n",
        "                    batch_inputs = [sample[0] for sample in batch_data]\n",
        "                    batch_labels = [sample[1] for sample in batch_data]\n",
        "                    batch_inputs_mask=[sample[2] for sample in batch_data]\n",
        "                    batch_labels_mask=[sample[3] for sample in batch_data]\n",
        "\n",
        "                    # print(f'{batch_inputs[0].size()=}_{batch_labels[0].size()=}_{batch_inputs_mask[0].size()=}_{batch_labels_mask[0].size()=}')\n",
        "\n",
        "\n",
        "\n",
        "                    tensor_inputs = torch.stack(batch_inputs, dim=0)\n",
        "                    tensor_labels = torch.stack(batch_labels, dim=0)\n",
        "                    tensor_inputs_mask = torch.stack(batch_inputs_mask, dim=0)\n",
        "                    tensor_labels_mask = torch.stack(batch_labels_mask, dim=0)\n",
        "                    # print(f'{tensor_inputs.shape=}')\n",
        "                    yield tensor_inputs, tensor_labels, tensor_inputs_mask, tensor_labels_mask\n"
      ]
    },
    {
      "cell_type": "markdown",
      "source": [
        "# Data Loading"
      ],
      "metadata": {
        "id": "URhxVVKpbfjv"
      }
    },
    {
      "cell_type": "code",
      "source": [
        "language='C2'\n",
        "cls='SA'\n",
        "Type='Arousal'"
      ],
      "metadata": {
        "id": "FQVKsofYOYdW"
      },
      "execution_count": null,
      "outputs": []
    },
    {
      "cell_type": "markdown",
      "source": [
        "## Audio"
      ],
      "metadata": {
        "id": "zEONuExibvam"
      }
    },
    {
      "cell_type": "code",
      "execution_count": null,
      "metadata": {
        "id": "Tln-UYH7i9hi"
      },
      "outputs": [],
      "source": [
        "# audio\n",
        "def extract_features_and_labels(folder_path,startwith):\n",
        "  subfolders = []\n",
        "  for item in os.listdir(folder_path):\n",
        "    item_path = os.path.join(folder_path, item)\n",
        "    if os.path.isdir(item_path):\n",
        "      subfolders.append(item_path)\n",
        "\n",
        "  feat_labdict={}\n",
        "  for langfolder in subfolders:\n",
        "    name=langfolder.split('/')[-1]\n",
        "    print(f'{name=}')\n",
        "    feat_label={}\n",
        "\n",
        "    for file in os.listdir(langfolder):\n",
        "      if file.startswith(startwith):\n",
        "        file_path = os.path.join(langfolder, file)\n",
        "        feature=torch.tensor(np.load(file_path+'/features.npy'))\n",
        "        label=torch.tensor(np.load(file_path+'/labels.npy'))\n",
        "        feat_label[file]=[feature,label]\n",
        "\n",
        "    feat_labdict[name]=feat_label\n",
        "  return feat_labdict"
      ]
    },
    {
      "cell_type": "code",
      "execution_count": null,
      "metadata": {
        "colab": {
          "base_uri": "https://localhost:8080/"
        },
        "id": "UPeC8WFEjB33",
        "outputId": "05e84a55-7cfb-4729-a7b1-5d516223b156"
      },
      "outputs": [
        {
          "output_type": "stream",
          "name": "stdout",
          "text": [
            "name='C2'\n",
            "name='C4'\n",
            "name='C3'\n",
            "name='C6'\n",
            "name='C5'\n",
            "name='C1'\n",
            "len(audio_dataset)=32\n"
          ]
        }
      ],
      "source": [
        "# Audio single model\n",
        "input_folder=\"/content/drive/MyDrive/HuBert_FullLen_PCA\"\n",
        "feat_labdict=extract_features_and_labels(input_folder,cls)\n",
        "# print(f'{df_C1_PCA=}')\n",
        "audio_dataset_dict=feat_labdict[language]\n",
        "audio_dataset=[]\n",
        "for key,value in audio_dataset_dict.items():\n",
        "  audio_dataset.append(value)\n",
        "print(f'{len(audio_dataset)=}')"
      ]
    },
    {
      "cell_type": "markdown",
      "source": [
        "## Video"
      ],
      "metadata": {
        "id": "iZH-DU9ubx_g"
      }
    },
    {
      "cell_type": "code",
      "execution_count": null,
      "metadata": {
        "id": "KFoDiY0-mUfn"
      },
      "outputs": [],
      "source": [
        "def load_labels(root_dir,language,type,cls,suffix='AV_Aligned'):\n",
        "    \"\"\"Loads labels from the directory.\"\"\"\n",
        "    labels = {}\n",
        "    files=[]\n",
        "\n",
        "    # number of folder dont have a LandMarks\n",
        "    for filename in os.listdir(root_dir):\n",
        "        #\n",
        "\n",
        "        if not f'_{language}_' in filename or not filename.startswith(cls) or not f'{type}' in filename:\n",
        "          # print(f'{filename=}')\n",
        "          continue\n",
        "        file_path = os.path.join(root_dir, filename)\n",
        "        files.append(file_path)\n",
        "\n",
        "\n",
        "\n",
        "        # print(f'loading {folder_name=}')\n",
        "    for csv_file in files:\n",
        "        file_name_ = os.path.basename(csv_file)\n",
        "        # filename example: SSL_C2_S055_P109_VC1_004803_005542_Arousal_AV_Aligned\n",
        "        file_name =file_name_.split('.')[0]\n",
        "        key=\"_\".join(file_name.split('_')[:-3])\n",
        "        # print(f'processing {file_name}')\n",
        "        # key example : 'SSL_C2_S055_P109_VC1_004803_005542'\n",
        "        # print(f'{key=}')\n",
        "\n",
        "        label = []\n",
        "\n",
        "        with open(csv_file, newline='') as csvfile:\n",
        "\n",
        "            df = pd.read_csv(csv_file)\n",
        "            label = df[type.lower()].values.reshape(-1, 1)\n",
        "            labels[key]=label\n",
        "    return labels\n",
        "\n",
        "# def test():\n",
        "#     # Example Usage\n",
        "#     root_dir = \"/content/drive/MyDrive/SEWAv02_label\"\n",
        "\n",
        "#     labels=load_labels(root_dir,language='C1',type='Arousal',cls='SA',suffix='AV_Aligned')\n",
        "\n",
        "#     print(f'{len(labels)=}')\n",
        "#     print(f'{labels.keys()=}')\n",
        "#     ele=labels[\"SAH_C1_S018_P036_VC1_001394_002328\"]\n",
        "#     print(f'{len(ele)=}')\n",
        "#     print(f'{type(ele)=}')\n",
        "#     print(f'{ele=}')\n",
        "\n",
        "\n",
        "# test()\n"
      ]
    },
    {
      "cell_type": "code",
      "execution_count": null,
      "metadata": {
        "id": "uc1H1UudvWat"
      },
      "outputs": [],
      "source": [
        "def extract_image_feat(folder_path,language,cls):\n",
        "  features={}\n",
        "  for folder_name in os.listdir(folder_path):\n",
        "        #\n",
        "\n",
        "        if not f'_{language}_' in folder_name or not folder_name.startswith(cls):\n",
        "          # print(f'{folder_name=}')\n",
        "          continue\n",
        "\n",
        "        file_path = os.path.join(folder_path, folder_name)\n",
        "        feature = torch.load(file_path)\n",
        "\n",
        "        features[folder_name.split('.')[0]]=feature\n",
        "  return features\n",
        "\n",
        "\n",
        "# folder_path=\"/content/drive/MyDrive/vggpooled\"\n",
        "# language='C1'\n",
        "# features=extract_image_feat(folder_path,language,'SA')\n",
        "# print(f'{len(features)=}_{features[0].shape=}')\n"
      ]
    },
    {
      "cell_type": "code",
      "source": [
        "# video single model\n",
        "input_folder=\"/content/drive/MyDrive/vggpooled\"\n",
        "label_folder=\"/content/drive/MyDrive/SEWAv02_label\"\n",
        "labels_vi=load_labels(label_folder,language=language,type=Type,cls=cls,suffix='AV_Aligned')\n",
        "features_vi=extract_image_feat(input_folder,language=language,cls=cls)\n",
        "print(f'{len(labels_vi)=}_{len(features_vi)=}')\n",
        "\n",
        "image_dataset=[]\n",
        "for key in features_vi.keys():\n",
        "  print(f'{key=}')\n",
        "  image_dataset.append([features_vi[key],labels_vi[key]])\n",
        "print(f'{len(image_dataset)=}')"
      ],
      "metadata": {
        "colab": {
          "base_uri": "https://localhost:8080/"
        },
        "id": "-HSyc8NHs44f",
        "outputId": "c594b038-ff5e-43e8-ef46-11de3f2d89fd"
      },
      "execution_count": null,
      "outputs": [
        {
          "output_type": "stream",
          "name": "stdout",
          "text": [
            "len(labels_vi)=32_len(features_vi)=24\n",
            "key='SAH_C2_S047_P094_VC1_002101_002718'\n",
            "key='SAH_C2_S045_P090_VC1_002801_003385'\n",
            "key='SAH_C2_S049_P097_VC1_003219_004772'\n",
            "key='SAH_C2_S045_P089_VC1_003626_005086'\n",
            "key='SAH_C2_S044_P087_VC1_000002_000683'\n",
            "key='SAH_C2_S050_P100_VC1_002799_003301'\n",
            "key='SAH_C2_S059_P117_VC1_000601_001353'\n",
            "key='SAH_C2_S036_P072_VC1_001337_002056'\n",
            "key='SAH_C2_S044_P088_VC1_000834_001365'\n",
            "key='SAH_C2_S034_P067_VC1_005252_005735'\n",
            "key='SAH_C2_S037_P073_VC1_002345_002998'\n",
            "key='SAL_C2_S050_P099_VC1_003700_004484'\n",
            "key='SAL_C2_S048_P095_VC1_003085_003710'\n",
            "key='SAL_C2_S041_P081_VC1_003415_004258'\n",
            "key='SAL_C2_S044_P087_VC1_004155_004862'\n",
            "key='SAL_C2_S052_P104_VC1_004088_004607'\n",
            "key='SAL_C2_S035_P070_VC1_001373_002439'\n",
            "key='SAL_C2_S038_P076_VC1_001881_002782'\n",
            "key='SAL_C2_S052_P103_VC1_003842_004770'\n",
            "key='SAL_C2_S038_P075_VC1_004032_005262'\n",
            "key='SAL_C2_S042_P083_VC1_001958_003364'\n",
            "key='SAL_C2_S199_P398_VC1_000467_002764'\n",
            "key='SAL_C2_S197_P393_VC1_000787_002868'\n",
            "key='SAL_C2_S195_P389_VC1_002919_005001'\n",
            "len(image_dataset)=24\n"
          ]
        }
      ]
    },
    {
      "cell_type": "markdown",
      "source": [
        "## Video-Audio"
      ],
      "metadata": {
        "id": "eMaF30E3s5QR"
      }
    },
    {
      "cell_type": "code",
      "execution_count": null,
      "metadata": {
        "colab": {
          "base_uri": "https://localhost:8080/"
        },
        "id": "ibVYQpAOomKh",
        "outputId": "13649f44-a169-4b8b-ac30-997bfa282ab3"
      },
      "outputs": [
        {
          "output_type": "stream",
          "name": "stdout",
          "text": [
            "name='C2'\n",
            "name='C4'\n",
            "name='C3'\n",
            "name='C6'\n",
            "name='C5'\n",
            "name='C1'\n",
            "key='SAH_C2_S047_P094_VC1_002101_002718'\n",
            "image_feature.shape=torch.Size([618, 512])\n",
            "audio_feature.shape=torch.Size([617, 128])\n",
            "aligned image_feature.shape=torch.Size([617, 512])\n",
            "fused_feature.shape=torch.Size([617, 640])\n",
            "key='SAH_C2_S045_P090_VC1_002801_003385'\n",
            "image_feature.shape=torch.Size([585, 512])\n",
            "audio_feature.shape=torch.Size([584, 128])\n",
            "aligned image_feature.shape=torch.Size([584, 512])\n",
            "fused_feature.shape=torch.Size([584, 640])\n",
            "key='SAH_C2_S049_P097_VC1_003219_004772'\n",
            "image_feature.shape=torch.Size([750, 512])\n",
            "audio_feature.shape=torch.Size([1553, 128])\n",
            "aligned image_feature.shape=torch.Size([749, 512])\n",
            "fused_feature.shape=torch.Size([749, 640])\n",
            "key='SAH_C2_S045_P089_VC1_003626_005086'\n",
            "image_feature.shape=torch.Size([750, 512])\n",
            "audio_feature.shape=torch.Size([1460, 128])\n",
            "aligned image_feature.shape=torch.Size([749, 512])\n",
            "fused_feature.shape=torch.Size([749, 640])\n",
            "key='SAH_C2_S044_P087_VC1_000002_000683'\n",
            "image_feature.shape=torch.Size([682, 512])\n",
            "audio_feature.shape=torch.Size([681, 128])\n",
            "aligned image_feature.shape=torch.Size([681, 512])\n",
            "fused_feature.shape=torch.Size([681, 640])\n",
            "key='SAH_C2_S050_P100_VC1_002799_003301'\n",
            "image_feature.shape=torch.Size([503, 512])\n",
            "audio_feature.shape=torch.Size([502, 128])\n",
            "aligned image_feature.shape=torch.Size([502, 512])\n",
            "fused_feature.shape=torch.Size([502, 640])\n",
            "key='SAH_C2_S059_P117_VC1_000601_001353'\n",
            "image_feature.shape=torch.Size([750, 512])\n",
            "audio_feature.shape=torch.Size([752, 128])\n",
            "aligned image_feature.shape=torch.Size([749, 512])\n",
            "fused_feature.shape=torch.Size([749, 640])\n",
            "key='SAH_C2_S036_P072_VC1_001337_002056'\n",
            "image_feature.shape=torch.Size([720, 512])\n",
            "audio_feature.shape=torch.Size([719, 128])\n",
            "aligned image_feature.shape=torch.Size([719, 512])\n",
            "fused_feature.shape=torch.Size([719, 640])\n",
            "key='SAH_C2_S044_P088_VC1_000834_001365'\n",
            "image_feature.shape=torch.Size([532, 512])\n",
            "audio_feature.shape=torch.Size([531, 128])\n",
            "aligned image_feature.shape=torch.Size([531, 512])\n",
            "fused_feature.shape=torch.Size([531, 640])\n",
            "key='SAH_C2_S034_P067_VC1_005252_005735'\n",
            "image_feature.shape=torch.Size([484, 512])\n",
            "audio_feature.shape=torch.Size([483, 128])\n",
            "aligned image_feature.shape=torch.Size([483, 512])\n",
            "fused_feature.shape=torch.Size([483, 640])\n",
            "key='SAH_C2_S037_P073_VC1_002345_002998'\n",
            "image_feature.shape=torch.Size([654, 512])\n",
            "audio_feature.shape=torch.Size([653, 128])\n",
            "aligned image_feature.shape=torch.Size([653, 512])\n",
            "fused_feature.shape=torch.Size([653, 640])\n",
            "key='SAL_C2_S050_P099_VC1_003700_004484'\n",
            "image_feature.shape=torch.Size([750, 512])\n",
            "audio_feature.shape=torch.Size([784, 128])\n",
            "aligned image_feature.shape=torch.Size([749, 512])\n",
            "fused_feature.shape=torch.Size([749, 640])\n",
            "key='SAL_C2_S048_P095_VC1_003085_003710'\n",
            "image_feature.shape=torch.Size([626, 512])\n",
            "audio_feature.shape=torch.Size([625, 128])\n",
            "aligned image_feature.shape=torch.Size([625, 512])\n",
            "fused_feature.shape=torch.Size([625, 640])\n",
            "key='SAL_C2_S041_P081_VC1_003415_004258'\n",
            "image_feature.shape=torch.Size([750, 512])\n",
            "audio_feature.shape=torch.Size([843, 128])\n",
            "aligned image_feature.shape=torch.Size([749, 512])\n",
            "fused_feature.shape=torch.Size([749, 640])\n",
            "key='SAL_C2_S044_P087_VC1_004155_004862'\n",
            "image_feature.shape=torch.Size([708, 512])\n",
            "audio_feature.shape=torch.Size([707, 128])\n",
            "aligned image_feature.shape=torch.Size([707, 512])\n",
            "fused_feature.shape=torch.Size([707, 640])\n",
            "key='SAL_C2_S052_P104_VC1_004088_004607'\n",
            "image_feature.shape=torch.Size([520, 512])\n",
            "audio_feature.shape=torch.Size([519, 128])\n",
            "aligned image_feature.shape=torch.Size([519, 512])\n",
            "fused_feature.shape=torch.Size([519, 640])\n",
            "key='SAL_C2_S035_P070_VC1_001373_002439'\n",
            "image_feature.shape=torch.Size([750, 512])\n",
            "audio_feature.shape=torch.Size([1066, 128])\n",
            "aligned image_feature.shape=torch.Size([749, 512])\n",
            "fused_feature.shape=torch.Size([749, 640])\n",
            "key='SAL_C2_S038_P076_VC1_001881_002782'\n",
            "image_feature.shape=torch.Size([750, 512])\n",
            "audio_feature.shape=torch.Size([901, 128])\n",
            "aligned image_feature.shape=torch.Size([749, 512])\n",
            "fused_feature.shape=torch.Size([749, 640])\n",
            "key='SAL_C2_S052_P103_VC1_003842_004770'\n",
            "image_feature.shape=torch.Size([750, 512])\n",
            "audio_feature.shape=torch.Size([928, 128])\n",
            "aligned image_feature.shape=torch.Size([749, 512])\n",
            "fused_feature.shape=torch.Size([749, 640])\n",
            "key='SAL_C2_S038_P075_VC1_004032_005262'\n",
            "image_feature.shape=torch.Size([750, 512])\n",
            "audio_feature.shape=torch.Size([1230, 128])\n",
            "aligned image_feature.shape=torch.Size([749, 512])\n",
            "fused_feature.shape=torch.Size([749, 640])\n",
            "key='SAL_C2_S042_P083_VC1_001958_003364'\n",
            "image_feature.shape=torch.Size([750, 512])\n",
            "audio_feature.shape=torch.Size([1406, 128])\n",
            "aligned image_feature.shape=torch.Size([749, 512])\n",
            "fused_feature.shape=torch.Size([749, 640])\n",
            "key='SAL_C2_S199_P398_VC1_000467_002764'\n",
            "image_feature.shape=torch.Size([750, 512])\n",
            "audio_feature.shape=torch.Size([2297, 128])\n",
            "aligned image_feature.shape=torch.Size([749, 512])\n",
            "fused_feature.shape=torch.Size([749, 640])\n",
            "key='SAL_C2_S197_P393_VC1_000787_002868'\n",
            "image_feature.shape=torch.Size([750, 512])\n",
            "audio_feature.shape=torch.Size([2081, 128])\n",
            "aligned image_feature.shape=torch.Size([749, 512])\n",
            "fused_feature.shape=torch.Size([749, 640])\n",
            "key='SAL_C2_S195_P389_VC1_002919_005001'\n",
            "image_feature.shape=torch.Size([750, 512])\n",
            "audio_feature.shape=torch.Size([2082, 128])\n",
            "aligned image_feature.shape=torch.Size([749, 512])\n",
            "fused_feature.shape=torch.Size([749, 640])\n"
          ]
        }
      ],
      "source": [
        "# video-audio model\n",
        "input_folder=\"/content/drive/MyDrive/vggpooled\"\n",
        "label_folder=\"/content/drive/MyDrive/SEWAv02_label\"\n",
        "# labels_fu=load_labels(label_folder,language=language,type='Arousal',cls='SA',suffix='AV_Aligned')\n",
        "# image_features=extract_image_feat(input_folder,language=language,cls='SA')\n",
        "# print(f'{len(labels_vi)=}_{len(image_features)=}')\n",
        "\n",
        "\n",
        "input_folder=\"/content/drive/MyDrive/HuBert_FullLen_PCA\"\n",
        "feat_labdict_fu=extract_features_and_labels(input_folder,cls)\n",
        "audio_dataset_dict_fu=feat_labdict_fu[language]\n",
        "\n",
        "fuse_dataset=[]\n",
        "aligned_len=749\n",
        "for key in features_vi.keys():\n",
        "  print(f'{key=}')\n",
        "  image_feature=features_vi[key]\n",
        "  print(f'{image_feature.shape=}')\n",
        "  audio_feature=audio_dataset_dict_fu[key][0]\n",
        "  print(f'{audio_feature.shape=}')\n",
        "  croped_len=min(audio_feature.shape[0],aligned_len)\n",
        "\n",
        "  image_feature=image_feature[:croped_len]\n",
        "  audio_feature=audio_feature[:croped_len]\n",
        "  print(f'aligned {image_feature.shape=}')\n",
        "  fused_feature = torch.cat((image_feature, audio_feature), dim=1)\n",
        "  print(f'{fused_feature.shape=}')\n",
        "  fuse_dataset.append([fused_feature,labels_vi[key][:croped_len]])\n"
      ]
    },
    {
      "cell_type": "markdown",
      "source": [
        "## Splite training and validation set"
      ],
      "metadata": {
        "id": "nAAYyTCUb9s-"
      }
    },
    {
      "cell_type": "code",
      "execution_count": null,
      "metadata": {
        "id": "7SOGb3tn-LK-"
      },
      "outputs": [],
      "source": [
        "def split_train_val(dataset, test_size=0.2, random_state=None):\n",
        "    \"\"\"\n",
        "    Split the dataset into training and validation sets\n",
        "\n",
        "    Parameters:\n",
        "        dataset: The dataset to be split\n",
        "        test_size: The proportion of the dataset to include in the validation set, default is 0.2\n",
        "        random_state: The random seed for reproducibility, default is None\n",
        "\n",
        "    Returns:\n",
        "        train_dataset: The training set\n",
        "        val_dataset: The validation set\n",
        "    \"\"\"\n",
        "    # Get the length of the dataset\n",
        "    dataset_length = len(dataset)\n",
        "\n",
        "    # Calculate the size of the validation set\n",
        "    val_size = int(test_size * dataset_length)\n",
        "\n",
        "    # Split the dataset using the train_test_split function from sklearn\n",
        "    train_dataset, val_dataset = train_test_split(dataset, test_size=test_size, random_state=random_state)\n",
        "\n",
        "    return train_dataset, val_dataset\n",
        "\n"
      ]
    },
    {
      "cell_type": "markdown",
      "metadata": {
        "id": "2t59CCOPj02J"
      },
      "source": [
        "## Other processing"
      ]
    },
    {
      "cell_type": "code",
      "execution_count": null,
      "metadata": {
        "id": "yzm64-lze8bM"
      },
      "outputs": [],
      "source": [
        "\n",
        "def trans_to_tensor(train_data,val_data):\n",
        "  train_inputs=[]\n",
        "  train_labels=[]\n",
        "  val_inputs=[]\n",
        "  val_labels=[]\n",
        "  for it in train_data:\n",
        "    train_inputs.append(torch.tensor(it[0]))\n",
        "    # print(f'{it[1].ndim=}')\n",
        "    if it[1].ndim<2:\n",
        "      train_labels.append(torch.tensor(it[1]).unsqueeze(1))\n",
        "    else:\n",
        "      train_labels.append(torch.tensor(it[1]))\n",
        "  print(f'{train_inputs[0].shape=}_{train_labels[0].shape=}')\n",
        "  # train_inputs=torch.stack(train_inputs, dim=0)\n",
        "  # train_labels=torch.stack(train_labels, dim=0)\n",
        "\n",
        "  # print(f'{train_inputs.shape=}_{train_labels.shape=}')\n",
        "\n",
        "\n",
        "  for it in val_data:\n",
        "    val_inputs.append(torch.tensor(it[0]))\n",
        "    if it[1].ndim<2:\n",
        "      val_labels.append(torch.tensor(it[1]).unsqueeze(1))\n",
        "    else:\n",
        "      val_labels.append(torch.tensor(it[1]))\n",
        "  print(f'{train_inputs[0].shape=}_{train_labels[0].shape=}')\n",
        "\n",
        "  print(f'{val_inputs[0].shape=}_{val_labels[0].shape=}')\n",
        "  return train_inputs,train_labels,val_inputs,val_labels\n"
      ]
    },
    {
      "cell_type": "markdown",
      "metadata": {
        "id": "RjG-QV8Je8bO"
      },
      "source": [
        "# Training module"
      ]
    },
    {
      "cell_type": "markdown",
      "source": [
        "## loss function"
      ],
      "metadata": {
        "id": "3QId9dlhkNXO"
      }
    },
    {
      "cell_type": "code",
      "source": [
        "import torch\n",
        "\n",
        "def CCCloss(predictions,targets,effective_lengths):\n",
        "     # 计算均值\n",
        "    # 计算均值\n",
        "    mean_pred = torch.sum(predictions, dim=(1, 2), keepdim=True) / effective_lengths.unsqueeze(1).unsqueeze(2)\n",
        "    mean_true = torch.sum(targets, dim=(1, 2), keepdim=True) / effective_lengths.unsqueeze(1).unsqueeze(2)\n",
        "\n",
        "    # 计算方差\n",
        "    var_pred = torch.sum((predictions - mean_pred)**2, dim=(1, 2), keepdim=True) / effective_lengths.unsqueeze(1).unsqueeze(2)\n",
        "    var_true = torch.sum((targets - mean_true)**2, dim=(1, 2), keepdim=True) / effective_lengths.unsqueeze(1).unsqueeze(2)\n",
        "\n",
        "    # 计算协方差\n",
        "    cov = torch.sum((predictions - mean_pred) * (targets - mean_true), dim=(1, 2), keepdim=True) / effective_lengths.unsqueeze(1).unsqueeze(2)\n",
        "\n",
        "    # 计算CCC\n",
        "    ccc = 2 * cov / (var_pred + var_true + (mean_pred - mean_true)**2)\n",
        "    ccc = torch.mean(ccc)\n",
        "    return 1 - torch.abs(ccc)\n",
        "\n",
        "def test():\n",
        " # 示例数据\n",
        "  batch_size = 2\n",
        "  seq_len = 3\n",
        "  input_dim = 2\n",
        "\n",
        "  # 生成随机特征和标签\n",
        "  features = torch.rand(batch_size, seq_len, input_dim)\n",
        "  labels = torch.rand(batch_size, seq_len, 1)\n",
        "\n",
        "  # 假设有效长度\n",
        "  effective_lengths = torch.tensor([2, 3])\n",
        "\n",
        "  # 计算CCC\n",
        "  ccc_score = CCCloss(features, labels, effective_lengths)\n",
        "\n",
        "  print(\"批次数据的CCC:\", ccc_score)\n",
        "# test()\n"
      ],
      "metadata": {
        "id": "VtMOINqIvcJS"
      },
      "execution_count": null,
      "outputs": []
    },
    {
      "cell_type": "code",
      "source": [
        "\n",
        "class RmseCCCLoss(nn.Module):\n",
        "    def __init__(self,wRMSE,wCCC):\n",
        "        super(RmseCCCLoss, self).__init__()\n",
        "        self.wRMSE=wRMSE\n",
        "        self.wCCC=wCCC\n",
        "    def forward(self, input_features, masked_outputs, masked_labels,effective_lengths):\n",
        "        criterion1 = nn.MSELoss(reduction='none')\n",
        "        loss1 = criterion1(masked_outputs, masked_labels)\n",
        "        loss1 = torch.sum(loss1, dim=1) / effective_lengths\n",
        "        loss1 = torch.mean(loss1)\n",
        "        loss1 = torch.sqrt(loss1)\n",
        "\n",
        "        loss2 = CCCloss(input_features,masked_outputs,effective_lengths)\n",
        "        loss = self.wRMSE*loss1+self.wCCC*loss2\n",
        "        return loss,loss1,loss2\n"
      ],
      "metadata": {
        "id": "aw5PMdDDkP3G"
      },
      "execution_count": null,
      "outputs": []
    },
    {
      "cell_type": "code",
      "execution_count": null,
      "metadata": {
        "id": "93OpJwTce8bO"
      },
      "outputs": [],
      "source": [
        "\n",
        "def train_model(model, train_loader, test_loader, criterion, optimizer, num_epochs,device):\n",
        "    for epoch in range(num_epochs):\n",
        "        # --------------Training -----------------\n",
        "        model = model.to(device)\n",
        "        model.train()\n",
        "        for batch_inputs, batch_labels,batch_inputs_mask,batch_labels_mask in train_loader:\n",
        "            # shift the label for 1 unit\n",
        "\n",
        "            # Assume batch_labels is a tensor of shape (batch_size, sequence_length, 1)\n",
        "            batch_size, sequence_length, _ = batch_labels.size()\n",
        "\n",
        "            # Create a tensor filled with zeros as the result\n",
        "            batch_labels_shift = torch.zeros(batch_size, sequence_length, 1, dtype=batch_labels.dtype, device=batch_labels.device)\n",
        "\n",
        "            # Shift the data in batch_labels by one unit to the right, fill the leftmost position with 0, and discard the rightmost one\n",
        "            batch_labels_shift[:, 1:, :] = batch_labels[:, :-1, :]\n",
        "\n",
        "            # Ensure that batch_labels_shift and batch_labels are aligned\n",
        "            batch_labels_shift[:, 0, :] = 0  # Fill the leftmost position with 0\n",
        "\n",
        "\n",
        "            # Passing input data x and labels y into the model\n",
        "            batch_inputs = batch_inputs.to(device)\n",
        "            batch_labels = batch_labels.to(device)\n",
        "            batch_labels_shift = batch_labels.to(device)\n",
        "            batch_inputs_mask = batch_inputs_mask.to(device)\n",
        "            batch_labels_mask = batch_labels_mask.to(device)\n",
        "            outputs = model(batch_inputs,batch_labels_shift,batch_inputs_mask,batch_labels_mask)\n",
        "\n",
        "\n",
        "            flipped_labels_mask = (batch_labels_mask == 0)\n",
        "\n",
        "            masked_outputs = outputs * flipped_labels_mask.float().unsqueeze(-1)\n",
        "\n",
        "            effective_lengths = torch.sum(flipped_labels_mask, dim=1)  # Sum up along the second dimension to obtain the effective length of each sample.\n",
        "\n",
        "\n",
        "\n",
        "            masked_labels = batch_labels * flipped_labels_mask.float().unsqueeze(-1)\n",
        "\n",
        "            loss,lossrmse,lossccc = criterion(batch_inputs,masked_outputs, masked_labels,effective_lengths)\n",
        "\n",
        "            # Backpropagation and optimization\n",
        "            optimizer.zero_grad()\n",
        "            loss.backward()\n",
        "            optimizer.step()\n",
        "          # Printing the loss for the current iteration\n",
        "\n",
        "        train_loss=loss.item()\n",
        "\n",
        "        # Evaluating the model's performance\n",
        "        model.eval()\n",
        "        total_loss = 0.0\n",
        "        total_lossrmse = 0.0\n",
        "        total_lossccc = 0.0\n",
        "        total_batch = 0\n",
        "\n",
        "        # --------------validation each epoch-----------------\n",
        "        for batch_inputs, batch_labels,batch_inputs_mask,batch_labels_mask in test_loader:\n",
        "            # shift the label for 1 unit\n",
        "\n",
        "              # Assume batch_labels is a tensor of shape (batch_size, sequence_length, 1)\n",
        "              batch_size, sequence_length, _ = batch_labels.size()\n",
        "\n",
        "              # Create a tensor filled with zeros as the result\n",
        "              batch_labels_shift = torch.zeros(batch_size, sequence_length, 1, dtype=batch_labels.dtype, device=batch_labels.device)\n",
        "\n",
        "              # Shift the data in batch_labels by one unit to the right, fill the leftmost position with 0, and discard the rightmost one\n",
        "              batch_labels_shift[:, 1:, :] = batch_labels[:, :-1, :]\n",
        "\n",
        "              # Ensure that batch_labels_shift and batch_labels are aligned\n",
        "              batch_labels_shift[:, 0, :] = 0  # Fill the leftmost position with 0\n",
        "\n",
        "\n",
        "            # Passing input data x and labels y into the model\n",
        "              batch_inputs = batch_inputs.to(device)\n",
        "              batch_labels = batch_labels.to(device)\n",
        "              batch_labels_shift = batch_labels.to(device)\n",
        "              batch_inputs_mask = batch_inputs_mask.to(device)\n",
        "              batch_labels_mask = batch_labels_mask.to(device)\n",
        "              outputs = model(batch_inputs,batch_labels_shift,batch_inputs_mask,batch_labels_mask)\n",
        "\n",
        "\n",
        "              flipped_labels_mask = (batch_labels_mask == 0)\n",
        "\n",
        "              masked_outputs = outputs * flipped_labels_mask.float().unsqueeze(-1)\n",
        "\n",
        "              effective_lengths = torch.sum(flipped_labels_mask, dim=1)  # Sum up along the second dimension to obtain the effective length of each sample.\n",
        "              masked_labels = batch_labels * flipped_labels_mask.float().unsqueeze(-1)\n",
        "              loss,lossrmse,lossccc = criterion(batch_inputs,masked_outputs, masked_labels,effective_lengths)\n",
        "\n",
        "              print(f'{lossccc=}')\n",
        "              total_loss+=loss\n",
        "              total_lossrmse+=lossrmse\n",
        "              total_lossccc+=lossccc\n",
        "              total_batch+=1\n",
        "\n",
        "\n",
        "\n",
        "\n",
        "\n",
        "        total_loss=total_loss/total_batch\n",
        "        total_lossrmse=total_lossrmse/total_batch\n",
        "        total_lossccc=total_lossccc/total_batch\n",
        "        print(f'Epoch [{epoch+1}/{num_epochs}], TrainLoss: {train_loss:.4f},TestLoss: {total_loss:.4f},TestRMSELoss: {total_lossrmse:.4f},TestCCCLoss: {total_lossccc:.4f}')\n",
        "\n",
        "    # --------------validation -----------------\n",
        "    all_predicted = []\n",
        "    all_labels = []\n",
        "    for batch_inputs, batch_labels,batch_inputs_mask,batch_labels_mask in test_loader:\n",
        "\n",
        "              # Assume batch_labels is a tensor of shape (batch_size, sequence_length, 1)\n",
        "              batch_size, sequence_length, _ = batch_labels.size()\n",
        "\n",
        "              # Create a tensor filled with zeros as the result\n",
        "              batch_labels_shift = torch.zeros(batch_size, sequence_length, 1, dtype=batch_labels.dtype, device=batch_labels.device)\n",
        "\n",
        "              # Shift the data in batch_labels by one unit to the right, fill the leftmost position with 0, and discard the rightmost one\n",
        "              batch_labels_shift[:, 1:, :] = batch_labels[:, :-1, :]\n",
        "\n",
        "              # Ensure that batch_labels_shift and batch_labels are aligned\n",
        "              batch_labels_shift[:, 0, :] = 0  # Fill the leftmost position with 0\n",
        "\n",
        "            # Passing input data x and labels y into the model\n",
        "              batch_inputs = batch_inputs.to(device)\n",
        "              batch_labels = batch_labels.to(device)\n",
        "              batch_labels_shift = batch_labels.to(device)\n",
        "              batch_inputs_mask = batch_inputs_mask.to(device)\n",
        "              batch_labels_mask = batch_labels_mask.to(device)\n",
        "              outputs = model(batch_inputs,batch_labels_shift,batch_inputs_mask,batch_labels_mask)\n",
        "\n",
        "\n",
        "              flipped_labels_mask = (batch_labels_mask == 0)\n",
        "\n",
        "              masked_outputs = outputs * flipped_labels_mask.float().unsqueeze(-1)\n",
        "\n",
        "              masked_labels = batch_labels * flipped_labels_mask.float().unsqueeze(-1)\n",
        "\n",
        "              all_predicted.append(masked_outputs)\n",
        "              all_labels.append(masked_labels)\n",
        "\n",
        "\n",
        "    import matplotlib.pyplot as plt\n",
        "\n",
        "    # Plot a line graph for one sample\n",
        "    predata = all_predicted[0][0].tolist()\n",
        "    labeldata = all_labels[0][0].tolist()\n",
        "    x=list(range(1, len(predata) + 1))\n",
        "    # Plot a line graph for prediction\n",
        "    plt.plot(x, predata)\n",
        "    plt.xlabel('Length')\n",
        "    plt.ylabel('Value')\n",
        "    plt.title('Predicted')\n",
        "    plt.show()\n",
        "    # Plot a line graph for GT\n",
        "    plt.plot(x, labeldata)\n",
        "    plt.xlabel('Length')\n",
        "    plt.ylabel('Value')\n",
        "    plt.title('Ground True')\n",
        "    plt.show()\n"
      ]
    },
    {
      "cell_type": "markdown",
      "source": [
        "## Training"
      ],
      "metadata": {
        "id": "hqYdSduuc-0-"
      }
    },
    {
      "cell_type": "markdown",
      "source": [
        "### Audio"
      ],
      "metadata": {
        "id": "b3SKNXCpz-iI"
      }
    },
    {
      "cell_type": "code",
      "execution_count": null,
      "metadata": {
        "colab": {
          "base_uri": "https://localhost:8080/",
          "height": 1000
        },
        "id": "jcN5wQgwe8bP",
        "outputId": "f0a7eead-70c0-4d0c-e1d3-00a58edcf77d"
      },
      "outputs": [
        {
          "output_type": "stream",
          "name": "stdout",
          "text": [
            "finish split_train_val dataset\n",
            "Training set length: 25\n",
            "Validation set length: 7\n",
            "train_inputs[0].shape=torch.Size([584, 128])_train_labels[0].shape=torch.Size([584, 1])\n",
            "train_inputs[0].shape=torch.Size([584, 128])_train_labels[0].shape=torch.Size([584, 1])\n",
            "val_inputs[0].shape=torch.Size([653, 128])_val_labels[0].shape=torch.Size([653, 1])\n",
            "len(train_loader)=4\n",
            "len(test_loader)=1\n"
          ]
        },
        {
          "output_type": "stream",
          "name": "stderr",
          "text": [
            "<ipython-input-19-1305ba55557c>:7: UserWarning: To copy construct from a tensor, it is recommended to use sourceTensor.clone().detach() or sourceTensor.clone().detach().requires_grad_(True), rather than torch.tensor(sourceTensor).\n",
            "  train_inputs.append(torch.tensor(it[0]))\n",
            "<ipython-input-19-1305ba55557c>:10: UserWarning: To copy construct from a tensor, it is recommended to use sourceTensor.clone().detach() or sourceTensor.clone().detach().requires_grad_(True), rather than torch.tensor(sourceTensor).\n",
            "  train_labels.append(torch.tensor(it[1]).unsqueeze(1))\n",
            "<ipython-input-19-1305ba55557c>:21: UserWarning: To copy construct from a tensor, it is recommended to use sourceTensor.clone().detach() or sourceTensor.clone().detach().requires_grad_(True), rather than torch.tensor(sourceTensor).\n",
            "  val_inputs.append(torch.tensor(it[0]))\n",
            "<ipython-input-19-1305ba55557c>:23: UserWarning: To copy construct from a tensor, it is recommended to use sourceTensor.clone().detach() or sourceTensor.clone().detach().requires_grad_(True), rather than torch.tensor(sourceTensor).\n",
            "  val_labels.append(torch.tensor(it[1]).unsqueeze(1))\n",
            "/usr/local/lib/python3.10/dist-packages/torch/nn/functional.py:5109: UserWarning: Support for mismatched src_key_padding_mask and mask is deprecated. Use same type for both instead.\n",
            "  warnings.warn(\n"
          ]
        },
        {
          "output_type": "stream",
          "name": "stdout",
          "text": [
            "lossccc=tensor(0.9991, device='cuda:0', grad_fn=<RsubBackward1>)\n",
            "Epoch [1/50], TrainLoss: 0.4081,TestLoss: 1.5501,TestRMSELoss: 1.5501,TestCCCLoss: 0.9991\n",
            "lossccc=tensor(0.9998, device='cuda:0', grad_fn=<RsubBackward1>)\n",
            "Epoch [2/50], TrainLoss: 0.3548,TestLoss: 0.8168,TestRMSELoss: 0.8168,TestCCCLoss: 0.9998\n",
            "lossccc=tensor(0.9998, device='cuda:0', grad_fn=<RsubBackward1>)\n",
            "Epoch [3/50], TrainLoss: 0.7294,TestLoss: 0.7092,TestRMSELoss: 0.7092,TestCCCLoss: 0.9998\n",
            "lossccc=tensor(1.0000, device='cuda:0', grad_fn=<RsubBackward1>)\n",
            "Epoch [4/50], TrainLoss: 0.4624,TestLoss: 0.6030,TestRMSELoss: 0.6030,TestCCCLoss: 1.0000\n",
            "lossccc=tensor(0.9999, device='cuda:0', grad_fn=<RsubBackward1>)\n",
            "Epoch [5/50], TrainLoss: 0.0925,TestLoss: 0.7880,TestRMSELoss: 0.7880,TestCCCLoss: 0.9999\n",
            "lossccc=tensor(1.0000, device='cuda:0', grad_fn=<RsubBackward1>)\n",
            "Epoch [6/50], TrainLoss: 0.2619,TestLoss: 0.5683,TestRMSELoss: 0.5683,TestCCCLoss: 1.0000\n",
            "lossccc=tensor(0.9999, device='cuda:0', grad_fn=<RsubBackward1>)\n",
            "Epoch [7/50], TrainLoss: 0.4840,TestLoss: 0.5451,TestRMSELoss: 0.5451,TestCCCLoss: 0.9999\n",
            "lossccc=tensor(1.0000, device='cuda:0', grad_fn=<RsubBackward1>)\n",
            "Epoch [8/50], TrainLoss: 0.3373,TestLoss: 0.5566,TestRMSELoss: 0.5566,TestCCCLoss: 1.0000\n",
            "lossccc=tensor(1.0000, device='cuda:0', grad_fn=<RsubBackward1>)\n",
            "Epoch [9/50], TrainLoss: 0.2029,TestLoss: 0.5653,TestRMSELoss: 0.5653,TestCCCLoss: 1.0000\n",
            "lossccc=tensor(0.9999, device='cuda:0', grad_fn=<RsubBackward1>)\n",
            "Epoch [10/50], TrainLoss: 0.2555,TestLoss: 0.4313,TestRMSELoss: 0.4313,TestCCCLoss: 0.9999\n",
            "lossccc=tensor(0.9999, device='cuda:0', grad_fn=<RsubBackward1>)\n",
            "Epoch [11/50], TrainLoss: 0.1909,TestLoss: 0.3580,TestRMSELoss: 0.3580,TestCCCLoss: 0.9999\n",
            "lossccc=tensor(0.9998, device='cuda:0', grad_fn=<RsubBackward1>)\n",
            "Epoch [12/50], TrainLoss: 0.0878,TestLoss: 0.3069,TestRMSELoss: 0.3069,TestCCCLoss: 0.9998\n",
            "lossccc=tensor(0.9998, device='cuda:0', grad_fn=<RsubBackward1>)\n",
            "Epoch [13/50], TrainLoss: 0.0997,TestLoss: 0.2985,TestRMSELoss: 0.2985,TestCCCLoss: 0.9998\n",
            "lossccc=tensor(0.9999, device='cuda:0', grad_fn=<RsubBackward1>)\n",
            "Epoch [14/50], TrainLoss: 0.0884,TestLoss: 0.3686,TestRMSELoss: 0.3686,TestCCCLoss: 0.9999\n",
            "lossccc=tensor(0.9999, device='cuda:0', grad_fn=<RsubBackward1>)\n",
            "Epoch [15/50], TrainLoss: 0.1216,TestLoss: 0.3541,TestRMSELoss: 0.3541,TestCCCLoss: 0.9999\n",
            "lossccc=tensor(0.9999, device='cuda:0', grad_fn=<RsubBackward1>)\n",
            "Epoch [16/50], TrainLoss: 0.1298,TestLoss: 0.3558,TestRMSELoss: 0.3558,TestCCCLoss: 0.9999\n",
            "lossccc=tensor(0.9999, device='cuda:0', grad_fn=<RsubBackward1>)\n",
            "Epoch [17/50], TrainLoss: 0.0828,TestLoss: 0.3457,TestRMSELoss: 0.3457,TestCCCLoss: 0.9999\n",
            "lossccc=tensor(0.9998, device='cuda:0', grad_fn=<RsubBackward1>)\n",
            "Epoch [18/50], TrainLoss: 0.0814,TestLoss: 0.3217,TestRMSELoss: 0.3217,TestCCCLoss: 0.9998\n",
            "lossccc=tensor(0.9998, device='cuda:0', grad_fn=<RsubBackward1>)\n",
            "Epoch [19/50], TrainLoss: 0.0777,TestLoss: 0.3285,TestRMSELoss: 0.3285,TestCCCLoss: 0.9998\n",
            "lossccc=tensor(0.9998, device='cuda:0', grad_fn=<RsubBackward1>)\n",
            "Epoch [20/50], TrainLoss: 0.0902,TestLoss: 0.3308,TestRMSELoss: 0.3308,TestCCCLoss: 0.9998\n",
            "lossccc=tensor(0.9998, device='cuda:0', grad_fn=<RsubBackward1>)\n",
            "Epoch [21/50], TrainLoss: 0.0781,TestLoss: 0.3162,TestRMSELoss: 0.3162,TestCCCLoss: 0.9998\n",
            "lossccc=tensor(0.9998, device='cuda:0', grad_fn=<RsubBackward1>)\n",
            "Epoch [22/50], TrainLoss: 0.0670,TestLoss: 0.2999,TestRMSELoss: 0.2999,TestCCCLoss: 0.9998\n",
            "lossccc=tensor(0.9998, device='cuda:0', grad_fn=<RsubBackward1>)\n",
            "Epoch [23/50], TrainLoss: 0.0611,TestLoss: 0.2984,TestRMSELoss: 0.2984,TestCCCLoss: 0.9998\n",
            "lossccc=tensor(0.9999, device='cuda:0', grad_fn=<RsubBackward1>)\n",
            "Epoch [24/50], TrainLoss: 0.0620,TestLoss: 0.3386,TestRMSELoss: 0.3386,TestCCCLoss: 0.9999\n",
            "lossccc=tensor(0.9998, device='cuda:0', grad_fn=<RsubBackward1>)\n",
            "Epoch [25/50], TrainLoss: 0.0825,TestLoss: 0.3121,TestRMSELoss: 0.3121,TestCCCLoss: 0.9998\n",
            "lossccc=tensor(0.9998, device='cuda:0', grad_fn=<RsubBackward1>)\n",
            "Epoch [26/50], TrainLoss: 0.0625,TestLoss: 0.2060,TestRMSELoss: 0.2060,TestCCCLoss: 0.9998\n",
            "lossccc=tensor(0.9999, device='cuda:0', grad_fn=<RsubBackward1>)\n",
            "Epoch [27/50], TrainLoss: 0.0666,TestLoss: 0.2722,TestRMSELoss: 0.2722,TestCCCLoss: 0.9999\n",
            "lossccc=tensor(1.0000, device='cuda:0', grad_fn=<RsubBackward1>)\n",
            "Epoch [28/50], TrainLoss: 0.0585,TestLoss: 0.4231,TestRMSELoss: 0.4231,TestCCCLoss: 1.0000\n",
            "lossccc=tensor(0.9998, device='cuda:0', grad_fn=<RsubBackward1>)\n",
            "Epoch [29/50], TrainLoss: 0.1413,TestLoss: 0.1527,TestRMSELoss: 0.1527,TestCCCLoss: 0.9998\n",
            "lossccc=tensor(0.9997, device='cuda:0', grad_fn=<RsubBackward1>)\n",
            "Epoch [30/50], TrainLoss: 0.0675,TestLoss: 0.1653,TestRMSELoss: 0.1653,TestCCCLoss: 0.9997\n",
            "lossccc=tensor(1.0000, device='cuda:0', grad_fn=<RsubBackward1>)\n",
            "Epoch [31/50], TrainLoss: 0.0928,TestLoss: 0.5041,TestRMSELoss: 0.5041,TestCCCLoss: 1.0000\n",
            "lossccc=tensor(0.9998, device='cuda:0', grad_fn=<RsubBackward1>)\n",
            "Epoch [32/50], TrainLoss: 0.1956,TestLoss: 0.3785,TestRMSELoss: 0.3785,TestCCCLoss: 0.9998\n",
            "lossccc=tensor(0.9999, device='cuda:0', grad_fn=<RsubBackward1>)\n",
            "Epoch [33/50], TrainLoss: 0.1098,TestLoss: 0.3859,TestRMSELoss: 0.3859,TestCCCLoss: 0.9999\n",
            "lossccc=tensor(0.9998, device='cuda:0', grad_fn=<RsubBackward1>)\n",
            "Epoch [34/50], TrainLoss: 0.1621,TestLoss: 0.2840,TestRMSELoss: 0.2840,TestCCCLoss: 0.9998\n",
            "lossccc=tensor(0.9998, device='cuda:0', grad_fn=<RsubBackward1>)\n",
            "Epoch [35/50], TrainLoss: 0.0666,TestLoss: 0.2750,TestRMSELoss: 0.2750,TestCCCLoss: 0.9998\n",
            "lossccc=tensor(0.9998, device='cuda:0', grad_fn=<RsubBackward1>)\n",
            "Epoch [36/50], TrainLoss: 0.0929,TestLoss: 0.3220,TestRMSELoss: 0.3220,TestCCCLoss: 0.9998\n",
            "lossccc=tensor(0.9998, device='cuda:0', grad_fn=<RsubBackward1>)\n",
            "Epoch [37/50], TrainLoss: 0.1399,TestLoss: 0.2795,TestRMSELoss: 0.2795,TestCCCLoss: 0.9998\n",
            "lossccc=tensor(0.9998, device='cuda:0', grad_fn=<RsubBackward1>)\n",
            "Epoch [38/50], TrainLoss: 0.0477,TestLoss: 0.2911,TestRMSELoss: 0.2911,TestCCCLoss: 0.9998\n",
            "lossccc=tensor(0.9998, device='cuda:0', grad_fn=<RsubBackward1>)\n",
            "Epoch [39/50], TrainLoss: 0.0600,TestLoss: 0.2037,TestRMSELoss: 0.2037,TestCCCLoss: 0.9998\n",
            "lossccc=tensor(0.9998, device='cuda:0', grad_fn=<RsubBackward1>)\n",
            "Epoch [40/50], TrainLoss: 0.0789,TestLoss: 0.1860,TestRMSELoss: 0.1860,TestCCCLoss: 0.9998\n",
            "lossccc=tensor(0.9998, device='cuda:0', grad_fn=<RsubBackward1>)\n",
            "Epoch [41/50], TrainLoss: 0.0771,TestLoss: 0.1388,TestRMSELoss: 0.1388,TestCCCLoss: 0.9998\n",
            "lossccc=tensor(0.9995, device='cuda:0', grad_fn=<RsubBackward1>)\n",
            "Epoch [42/50], TrainLoss: 0.0858,TestLoss: 0.2610,TestRMSELoss: 0.2610,TestCCCLoss: 0.9995\n",
            "lossccc=tensor(1.0000, device='cuda:0', grad_fn=<RsubBackward1>)\n",
            "Epoch [43/50], TrainLoss: 0.1861,TestLoss: 0.5306,TestRMSELoss: 0.5306,TestCCCLoss: 1.0000\n",
            "lossccc=tensor(0.9999, device='cuda:0', grad_fn=<RsubBackward1>)\n",
            "Epoch [44/50], TrainLoss: 0.0749,TestLoss: 0.4227,TestRMSELoss: 0.4227,TestCCCLoss: 0.9999\n",
            "lossccc=tensor(0.9999, device='cuda:0', grad_fn=<RsubBackward1>)\n",
            "Epoch [45/50], TrainLoss: 0.1635,TestLoss: 0.4173,TestRMSELoss: 0.4173,TestCCCLoss: 0.9999\n",
            "lossccc=tensor(0.9999, device='cuda:0', grad_fn=<RsubBackward1>)\n",
            "Epoch [46/50], TrainLoss: 0.1156,TestLoss: 0.4594,TestRMSELoss: 0.4594,TestCCCLoss: 0.9999\n",
            "lossccc=tensor(0.9999, device='cuda:0', grad_fn=<RsubBackward1>)\n",
            "Epoch [47/50], TrainLoss: 0.0508,TestLoss: 0.4103,TestRMSELoss: 0.4103,TestCCCLoss: 0.9999\n",
            "lossccc=tensor(0.9999, device='cuda:0', grad_fn=<RsubBackward1>)\n",
            "Epoch [48/50], TrainLoss: 0.0501,TestLoss: 0.4129,TestRMSELoss: 0.4129,TestCCCLoss: 0.9999\n",
            "lossccc=tensor(0.9999, device='cuda:0', grad_fn=<RsubBackward1>)\n",
            "Epoch [49/50], TrainLoss: 0.0948,TestLoss: 0.4230,TestRMSELoss: 0.4230,TestCCCLoss: 0.9999\n",
            "lossccc=tensor(0.9999, device='cuda:0', grad_fn=<RsubBackward1>)\n",
            "Epoch [50/50], TrainLoss: 0.0643,TestLoss: 0.4110,TestRMSELoss: 0.4110,TestCCCLoss: 0.9999\n"
          ]
        },
        {
          "output_type": "display_data",
          "data": {
            "text/plain": [
              "<Figure size 640x480 with 1 Axes>"
            ],
            "image/png": "[encoded data removed]"
          },
          "metadata": {}
        },
        {
          "output_type": "display_data",
          "data": {
            "text/plain": [
              "<Figure size 640x480 with 1 Axes>"
            ],
            "image/png": "[encoded data removed]"
          },
          "metadata": {}
        }
      ],
      "source": [
        "#\n",
        "\n",
        "args = {\n",
        "    'input_size': 128,     # Dimensionality of feature vectors per frame (audio)\n",
        "    'd_model': 64,        # Transformer hidden units\n",
        "    'num_layers': 4,      # Number of Encoder/Decoder layers\n",
        "    'output_size': 1,     # Output dimensionality\n",
        "    'device': 'cuda',      # Training device\n",
        "    'aligned_len': 749,  # Aligned sequence length\n",
        "    'num_epochs': 50,      # Number of training epochs\n",
        "    'batch_size':8\n",
        "}\n",
        "\n",
        "# Initialize the model\n",
        "model = RegressionTransformer(args)\n",
        "# Define the loss function and optimizer\n",
        "# criterion = nn.MSELoss(reduction='none')\n",
        "criterion = RmseCCCLoss(wRMSE=1,wCCC=0)\n",
        "optimizer = torch.optim.Adam(model.parameters(), lr=0.001)\n",
        "\n",
        "\n",
        "train_data_au, val_data_au = split_train_val(audio_dataset,random_state=42)\n",
        "print('finish split_train_val dataset')\n",
        "    # Output the lengths of training and validation sets\n",
        "print(\"Training set length:\", len(train_data_au))\n",
        "print(\"Validation set length:\", len(val_data_au))\n",
        "\n",
        "train_inputs_au,train_labels_au,val_inputs_au,val_labels_au=trans_to_tensor(train_data_au,val_data_au)\n",
        "\n",
        "traindataset = SEWADataset(dataset=train_inputs_au, labels=train_labels_au, maxlen=args['aligned_len'])\n",
        "train_loader = SEWAdataLoader(traindataset, args['batch_size'])\n",
        "print(f'{len(train_loader)=}')\n",
        "testdataset = SEWADataset(dataset=val_inputs_au, labels=val_labels_au, maxlen=args['aligned_len'])\n",
        "test_loader = SEWAdataLoader(testdataset, args['batch_size'])\n",
        "print(f'{len(test_loader)=}')\n",
        "train_model(model, train_loader, test_loader, criterion, optimizer, args['num_epochs'], args['device'])\n"
      ]
    },
    {
      "cell_type": "markdown",
      "source": [
        "### Video"
      ],
      "metadata": {
        "id": "tzeBxHUA1kRh"
      }
    },
    {
      "cell_type": "code",
      "source": [
        "#\n",
        "\n",
        "\n",
        "args = {\n",
        "    'input_size': 512,     # Dimensionality of feature vectors per frame (audio)\n",
        "    'd_model': 64,        # Transformer hidden units\n",
        "    'num_layers': 4,      # Number of Encoder/Decoder layers\n",
        "    'output_size': 1,     # Output dimensionality\n",
        "    'device': 'cuda',      # Training device\n",
        "    'aligned_len': 749,  # Aligned sequence length\n",
        "    'num_epochs': 50,      # Number of training epochs\n",
        "    'batch_size':8\n",
        "}\n",
        "\n",
        "# Initialize the model\n",
        "model = RegressionTransformer(args)\n",
        "\n",
        "\n",
        "# Define the loss function and optimizer\n",
        "# criterion = nn.MSELoss(reduction='none')\n",
        "criterion = RmseCCCLoss(wRMSE=0.9,wCCC=0.1)\n",
        "optimizer = torch.optim.Adam(model.parameters(), lr=0.001)\n",
        "\n",
        "train_data_vi, val_data_vi = split_train_val(image_dataset,random_state=42)\n",
        "print('finish split_train_val dataset')\n",
        "    # Output the lengths of training and validation sets\n",
        "print(\"Training set length:\", len(train_data_vi))\n",
        "print(\"Validation set length:\", len(val_data_vi))\n",
        "train_inputs_vi,train_labels_vi,val_inputs_vi,val_labels_vi=trans_to_tensor(train_data_vi,val_data_vi)\n",
        "\n",
        "\n",
        "traindataset = SEWADataset(dataset=train_inputs_vi, labels=train_labels_vi, maxlen=args['aligned_len'])\n",
        "train_loader = SEWAdataLoader(traindataset, args['batch_size'])\n",
        "print(f'{len(train_loader)=}')\n",
        "testdataset = SEWADataset(dataset=val_inputs_vi, labels=val_labels_vi, maxlen=args['aligned_len'])\n",
        "test_loader = SEWAdataLoader(testdataset, args['batch_size'])\n",
        "print(f'{len(test_loader)=}')\n",
        "train_model(model, train_loader, test_loader, criterion, optimizer, args['num_epochs'], args['device'])\n"
      ],
      "metadata": {
        "colab": {
          "base_uri": "https://localhost:8080/",
          "height": 1000
        },
        "id": "TZF-iHHe1oBC",
        "outputId": "cc57ac81-7726-4355-9eb0-bafc27cc0f80"
      },
      "execution_count": null,
      "outputs": [
        {
          "output_type": "stream",
          "name": "stdout",
          "text": [
            "finish split_train_val dataset\n",
            "Training set length: 19\n",
            "Validation set length: 5\n",
            "train_inputs[0].shape=torch.Size([484, 512])_train_labels[0].shape=torch.Size([484, 1])\n",
            "train_inputs[0].shape=torch.Size([484, 512])_train_labels[0].shape=torch.Size([484, 1])\n",
            "val_inputs[0].shape=torch.Size([532, 512])_val_labels[0].shape=torch.Size([532, 1])\n",
            "len(train_loader)=3\n",
            "len(test_loader)=1\n"
          ]
        },
        {
          "output_type": "stream",
          "name": "stderr",
          "text": [
            "<ipython-input-19-1305ba55557c>:7: UserWarning: To copy construct from a tensor, it is recommended to use sourceTensor.clone().detach() or sourceTensor.clone().detach().requires_grad_(True), rather than torch.tensor(sourceTensor).\n",
            "  train_inputs.append(torch.tensor(it[0]))\n",
            "<ipython-input-19-1305ba55557c>:21: UserWarning: To copy construct from a tensor, it is recommended to use sourceTensor.clone().detach() or sourceTensor.clone().detach().requires_grad_(True), rather than torch.tensor(sourceTensor).\n",
            "  val_inputs.append(torch.tensor(it[0]))\n",
            "<ipython-input-84-bacae5332154>:23: UserWarning: To copy construct from a tensor, it is recommended to use sourceTensor.clone().detach() or sourceTensor.clone().detach().requires_grad_(True), rather than torch.tensor(sourceTensor).\n",
            "  label = torch.tensor(label, dtype=torch.float32)\n"
          ]
        },
        {
          "output_type": "stream",
          "name": "stdout",
          "text": [
            "lossccc=tensor(0.9999, device='cuda:0', grad_fn=<RsubBackward1>)\n",
            "Epoch [1/50], TrainLoss: 1.7226,TestLoss: 0.3593,TestRMSELoss: 0.2881,TestCCCLoss: 0.9999\n",
            "lossccc=tensor(1.0000, device='cuda:0', grad_fn=<RsubBackward1>)\n",
            "Epoch [2/50], TrainLoss: 0.9052,TestLoss: 0.6368,TestRMSELoss: 0.5965,TestCCCLoss: 1.0000\n",
            "lossccc=tensor(1.0000, device='cuda:0', grad_fn=<RsubBackward1>)\n",
            "Epoch [3/50], TrainLoss: 0.5038,TestLoss: 0.4218,TestRMSELoss: 0.3575,TestCCCLoss: 1.0000\n",
            "lossccc=tensor(1.0000, device='cuda:0', grad_fn=<RsubBackward1>)\n",
            "Epoch [4/50], TrainLoss: 0.5031,TestLoss: 0.5836,TestRMSELoss: 0.5373,TestCCCLoss: 1.0000\n",
            "lossccc=tensor(1.0000, device='cuda:0', grad_fn=<RsubBackward1>)\n",
            "Epoch [5/50], TrainLoss: 0.4547,TestLoss: 0.4634,TestRMSELoss: 0.4038,TestCCCLoss: 1.0000\n",
            "lossccc=tensor(1.0000, device='cuda:0', grad_fn=<RsubBackward1>)\n",
            "Epoch [6/50], TrainLoss: 0.3853,TestLoss: 0.4230,TestRMSELoss: 0.3589,TestCCCLoss: 1.0000\n",
            "lossccc=tensor(1.0000, device='cuda:0', grad_fn=<RsubBackward1>)\n",
            "Epoch [7/50], TrainLoss: 0.4242,TestLoss: 0.4433,TestRMSELoss: 0.3815,TestCCCLoss: 1.0000\n",
            "lossccc=tensor(0.9999, device='cuda:0', grad_fn=<RsubBackward1>)\n",
            "Epoch [8/50], TrainLoss: 0.3181,TestLoss: 0.2990,TestRMSELoss: 0.2211,TestCCCLoss: 0.9999\n",
            "lossccc=tensor(1.0000, device='cuda:0', grad_fn=<RsubBackward1>)\n",
            "Epoch [9/50], TrainLoss: 0.4010,TestLoss: 0.3503,TestRMSELoss: 0.2781,TestCCCLoss: 1.0000\n",
            "lossccc=tensor(1.0000, device='cuda:0', grad_fn=<RsubBackward1>)\n",
            "Epoch [10/50], TrainLoss: 0.3376,TestLoss: 0.3331,TestRMSELoss: 0.2590,TestCCCLoss: 1.0000\n",
            "lossccc=tensor(1.0000, device='cuda:0', grad_fn=<RsubBackward1>)\n",
            "Epoch [11/50], TrainLoss: 0.2496,TestLoss: 0.3641,TestRMSELoss: 0.2934,TestCCCLoss: 1.0000\n",
            "lossccc=tensor(1.0000, device='cuda:0', grad_fn=<RsubBackward1>)\n",
            "Epoch [12/50], TrainLoss: 0.3792,TestLoss: 0.4021,TestRMSELoss: 0.3357,TestCCCLoss: 1.0000\n",
            "lossccc=tensor(1.0000, device='cuda:0', grad_fn=<RsubBackward1>)\n",
            "Epoch [13/50], TrainLoss: 0.2552,TestLoss: 0.3137,TestRMSELoss: 0.2375,TestCCCLoss: 1.0000\n",
            "lossccc=tensor(1.0000, device='cuda:0', grad_fn=<RsubBackward1>)\n",
            "Epoch [14/50], TrainLoss: 0.3049,TestLoss: 0.3476,TestRMSELoss: 0.2751,TestCCCLoss: 1.0000\n",
            "lossccc=tensor(1.0000, device='cuda:0', grad_fn=<RsubBackward1>)\n",
            "Epoch [15/50], TrainLoss: 0.3092,TestLoss: 0.3223,TestRMSELoss: 0.2470,TestCCCLoss: 1.0000\n",
            "lossccc=tensor(1.0000, device='cuda:0', grad_fn=<RsubBackward1>)\n",
            "Epoch [16/50], TrainLoss: 0.2556,TestLoss: 0.3395,TestRMSELoss: 0.2661,TestCCCLoss: 1.0000\n",
            "lossccc=tensor(1.0000, device='cuda:0', grad_fn=<RsubBackward1>)\n",
            "Epoch [17/50], TrainLoss: 0.2812,TestLoss: 0.3482,TestRMSELoss: 0.2758,TestCCCLoss: 1.0000\n",
            "lossccc=tensor(1.0000, device='cuda:0', grad_fn=<RsubBackward1>)\n",
            "Epoch [18/50], TrainLoss: 0.2358,TestLoss: 0.3380,TestRMSELoss: 0.2645,TestCCCLoss: 1.0000\n",
            "lossccc=tensor(1.0000, device='cuda:0', grad_fn=<RsubBackward1>)\n",
            "Epoch [19/50], TrainLoss: 0.3220,TestLoss: 0.3492,TestRMSELoss: 0.2768,TestCCCLoss: 1.0000\n",
            "lossccc=tensor(1.0000, device='cuda:0', grad_fn=<RsubBackward1>)\n",
            "Epoch [20/50], TrainLoss: 0.2713,TestLoss: 0.3212,TestRMSELoss: 0.2458,TestCCCLoss: 1.0000\n",
            "lossccc=tensor(1.0000, device='cuda:0', grad_fn=<RsubBackward1>)\n",
            "Epoch [21/50], TrainLoss: 0.3166,TestLoss: 0.3436,TestRMSELoss: 0.2707,TestCCCLoss: 1.0000\n",
            "lossccc=tensor(1.0000, device='cuda:0', grad_fn=<RsubBackward1>)\n",
            "Epoch [22/50], TrainLoss: 0.2321,TestLoss: 0.3501,TestRMSELoss: 0.2778,TestCCCLoss: 1.0000\n",
            "lossccc=tensor(1.0000, device='cuda:0', grad_fn=<RsubBackward1>)\n",
            "Epoch [23/50], TrainLoss: 0.3270,TestLoss: 0.3226,TestRMSELoss: 0.2473,TestCCCLoss: 1.0000\n",
            "lossccc=tensor(1.0000, device='cuda:0', grad_fn=<RsubBackward1>)\n",
            "Epoch [24/50], TrainLoss: 0.3108,TestLoss: 0.3523,TestRMSELoss: 0.2804,TestCCCLoss: 1.0000\n",
            "lossccc=tensor(1.0000, device='cuda:0', grad_fn=<RsubBackward1>)\n",
            "Epoch [25/50], TrainLoss: 0.4284,TestLoss: 0.3447,TestRMSELoss: 0.2719,TestCCCLoss: 1.0000\n",
            "lossccc=tensor(1.0000, device='cuda:0', grad_fn=<RsubBackward1>)\n",
            "Epoch [26/50], TrainLoss: 0.3707,TestLoss: 0.3191,TestRMSELoss: 0.2435,TestCCCLoss: 1.0000\n",
            "lossccc=tensor(1.0000, device='cuda:0', grad_fn=<RsubBackward1>)\n",
            "Epoch [27/50], TrainLoss: 0.3581,TestLoss: 0.4022,TestRMSELoss: 0.3358,TestCCCLoss: 1.0000\n",
            "lossccc=tensor(1.0000, device='cuda:0', grad_fn=<RsubBackward1>)\n",
            "Epoch [28/50], TrainLoss: 0.2697,TestLoss: 0.2894,TestRMSELoss: 0.2104,TestCCCLoss: 1.0000\n",
            "lossccc=tensor(1.0000, device='cuda:0', grad_fn=<RsubBackward1>)\n",
            "Epoch [29/50], TrainLoss: 0.2199,TestLoss: 0.3597,TestRMSELoss: 0.2886,TestCCCLoss: 1.0000\n",
            "lossccc=tensor(1.0000, device='cuda:0', grad_fn=<RsubBackward1>)\n",
            "Epoch [30/50], TrainLoss: 0.2243,TestLoss: 0.3267,TestRMSELoss: 0.2519,TestCCCLoss: 1.0000\n",
            "lossccc=tensor(1.0000, device='cuda:0', grad_fn=<RsubBackward1>)\n",
            "Epoch [31/50], TrainLoss: 0.3243,TestLoss: 0.3260,TestRMSELoss: 0.2511,TestCCCLoss: 1.0000\n",
            "lossccc=tensor(1.0000, device='cuda:0', grad_fn=<RsubBackward1>)\n",
            "Epoch [32/50], TrainLoss: 0.2950,TestLoss: 0.3310,TestRMSELoss: 0.2566,TestCCCLoss: 1.0000\n",
            "lossccc=tensor(1.0000, device='cuda:0', grad_fn=<RsubBackward1>)\n",
            "Epoch [33/50], TrainLoss: 0.3863,TestLoss: 0.3338,TestRMSELoss: 0.2598,TestCCCLoss: 1.0000\n",
            "lossccc=tensor(1.0000, device='cuda:0', grad_fn=<RsubBackward1>)\n",
            "Epoch [34/50], TrainLoss: 0.3386,TestLoss: 0.4047,TestRMSELoss: 0.3386,TestCCCLoss: 1.0000\n",
            "lossccc=tensor(0.9999, device='cuda:0', grad_fn=<RsubBackward1>)\n",
            "Epoch [35/50], TrainLoss: 0.3442,TestLoss: 0.2833,TestRMSELoss: 0.2037,TestCCCLoss: 0.9999\n",
            "lossccc=tensor(1.0000, device='cuda:0', grad_fn=<RsubBackward1>)\n",
            "Epoch [36/50], TrainLoss: 0.1976,TestLoss: 0.3690,TestRMSELoss: 0.2989,TestCCCLoss: 1.0000\n",
            "lossccc=tensor(1.0000, device='cuda:0', grad_fn=<RsubBackward1>)\n",
            "Epoch [37/50], TrainLoss: 0.2123,TestLoss: 0.3486,TestRMSELoss: 0.2762,TestCCCLoss: 1.0000\n",
            "lossccc=tensor(1.0000, device='cuda:0', grad_fn=<RsubBackward1>)\n",
            "Epoch [38/50], TrainLoss: 0.2674,TestLoss: 0.3174,TestRMSELoss: 0.2415,TestCCCLoss: 1.0000\n",
            "lossccc=tensor(1.0000, device='cuda:0', grad_fn=<RsubBackward1>)\n",
            "Epoch [39/50], TrainLoss: 0.1829,TestLoss: 0.3305,TestRMSELoss: 0.2561,TestCCCLoss: 1.0000\n",
            "lossccc=tensor(1.0000, device='cuda:0', grad_fn=<RsubBackward1>)\n",
            "Epoch [40/50], TrainLoss: 0.2438,TestLoss: 0.3817,TestRMSELoss: 0.3130,TestCCCLoss: 1.0000\n",
            "lossccc=tensor(1.0000, device='cuda:0', grad_fn=<RsubBackward1>)\n",
            "Epoch [41/50], TrainLoss: 0.3368,TestLoss: 0.3554,TestRMSELoss: 0.2838,TestCCCLoss: 1.0000\n",
            "lossccc=tensor(0.9999, device='cuda:0', grad_fn=<RsubBackward1>)\n",
            "Epoch [42/50], TrainLoss: 0.3924,TestLoss: 0.2801,TestRMSELoss: 0.2001,TestCCCLoss: 0.9999\n",
            "lossccc=tensor(1.0000, device='cuda:0', grad_fn=<RsubBackward1>)\n",
            "Epoch [43/50], TrainLoss: 0.2398,TestLoss: 0.3667,TestRMSELoss: 0.2963,TestCCCLoss: 1.0000\n",
            "lossccc=tensor(1.0000, device='cuda:0', grad_fn=<RsubBackward1>)\n",
            "Epoch [44/50], TrainLoss: 0.1872,TestLoss: 0.3466,TestRMSELoss: 0.2740,TestCCCLoss: 1.0000\n",
            "lossccc=tensor(1.0000, device='cuda:0', grad_fn=<RsubBackward1>)\n",
            "Epoch [45/50], TrainLoss: 0.1904,TestLoss: 0.3396,TestRMSELoss: 0.2662,TestCCCLoss: 1.0000\n",
            "lossccc=tensor(1.0000, device='cuda:0', grad_fn=<RsubBackward1>)\n",
            "Epoch [46/50], TrainLoss: 0.2005,TestLoss: 0.3244,TestRMSELoss: 0.2494,TestCCCLoss: 1.0000\n",
            "lossccc=tensor(1.0000, device='cuda:0', grad_fn=<RsubBackward1>)\n",
            "Epoch [47/50], TrainLoss: 0.2204,TestLoss: 0.3811,TestRMSELoss: 0.3124,TestCCCLoss: 1.0000\n",
            "lossccc=tensor(1.0000, device='cuda:0', grad_fn=<RsubBackward1>)\n",
            "Epoch [48/50], TrainLoss: 0.2195,TestLoss: 0.3011,TestRMSELoss: 0.2235,TestCCCLoss: 1.0000\n",
            "lossccc=tensor(1.0000, device='cuda:0', grad_fn=<RsubBackward1>)\n",
            "Epoch [49/50], TrainLoss: 0.3758,TestLoss: 0.2884,TestRMSELoss: 0.2093,TestCCCLoss: 1.0000\n",
            "lossccc=tensor(1.0000, device='cuda:0', grad_fn=<RsubBackward1>)\n",
            "Epoch [50/50], TrainLoss: 0.2511,TestLoss: 0.3424,TestRMSELoss: 0.2693,TestCCCLoss: 1.0000\n"
          ]
        },
        {
          "output_type": "display_data",
          "data": {
            "text/plain": [
              "<Figure size 640x480 with 1 Axes>"
            ],
            "image/png": "[encoded data removed]"
          },
          "metadata": {}
        },
        {
          "output_type": "display_data",
          "data": {
            "text/plain": [
              "<Figure size 640x480 with 1 Axes>"
            ],
            "image/png": "[encoded data removed]"
          },
          "metadata": {}
        }
      ]
    },
    {
      "cell_type": "markdown",
      "source": [
        "### Audio-Video"
      ],
      "metadata": {
        "id": "dPzZUHAz52Op"
      }
    },
    {
      "cell_type": "code",
      "source": [
        "#\n",
        "\n",
        "args = {\n",
        "    'input_size': 640,     # Dimensionality of feature vectors per frame (audio)\n",
        "    'd_model': 64,        # Transformer hidden units\n",
        "    'num_layers': 4,      # Number of Encoder/Decoder layers\n",
        "    'output_size': 1,     # Output dimensionality\n",
        "    'device': 'cuda',      # Training device\n",
        "    'aligned_len': 749,  # Aligned sequence length\n",
        "    'num_epochs': 50,      # Number of training epochs\n",
        "    'batch_size':8\n",
        "}\n",
        "\n",
        "# Initialize the model\n",
        "model = RegressionTransformer(args)\n",
        "# Define the loss function and optimizer\n",
        "# criterion = nn.MSELoss(reduction='none')\n",
        "criterion = RmseCCCLoss(wRMSE=0.9,wCCC=0.1)\n",
        "optimizer = torch.optim.Adam(model.parameters(), lr=0.001)\n",
        "\n",
        "\n",
        "train_data_av, val_data_av = split_train_val(fuse_dataset,random_state=42)\n",
        "print('finish split_train_val dataset')\n",
        "    # Output the lengths of training and validation sets\n",
        "print(\"Training set length:\", len(train_data_av))\n",
        "print(\"Validation set length:\", len(val_data_av))\n",
        "\n",
        "train_inputs_av,train_labels_av,val_inputs_av,val_labels_av=trans_to_tensor(train_data_av,val_data_av)\n",
        "\n",
        "traindataset = SEWADataset(dataset=train_inputs_av, labels=train_labels_av, maxlen=args['aligned_len'])\n",
        "train_loader = SEWAdataLoader(traindataset, args['batch_size'])\n",
        "print(f'{len(train_loader)=}')\n",
        "testdataset = SEWADataset(dataset=val_inputs_av, labels=val_labels_av, maxlen=args['aligned_len'])\n",
        "test_loader = SEWAdataLoader(testdataset, args['batch_size'])\n",
        "print(f'{len(test_loader)=}')\n",
        "train_model(model, train_loader, test_loader, criterion, optimizer, args['num_epochs'], args['device'])\n"
      ],
      "metadata": {
        "colab": {
          "base_uri": "https://localhost:8080/",
          "height": 1000
        },
        "id": "IIM6YYry51e2",
        "outputId": "bee709b2-fdb4-40fb-ff04-11b947f81234"
      },
      "execution_count": null,
      "outputs": [
        {
          "output_type": "stream",
          "name": "stdout",
          "text": [
            "finish split_train_val dataset\n",
            "Training set length: 19\n",
            "Validation set length: 5\n",
            "train_inputs[0].shape=torch.Size([483, 640])_train_labels[0].shape=torch.Size([483, 1])\n",
            "train_inputs[0].shape=torch.Size([483, 640])_train_labels[0].shape=torch.Size([483, 1])\n",
            "val_inputs[0].shape=torch.Size([531, 640])_val_labels[0].shape=torch.Size([531, 1])\n",
            "len(train_loader)=3\n",
            "len(test_loader)=1\n"
          ]
        },
        {
          "output_type": "stream",
          "name": "stderr",
          "text": [
            "<ipython-input-19-1305ba55557c>:7: UserWarning: To copy construct from a tensor, it is recommended to use sourceTensor.clone().detach() or sourceTensor.clone().detach().requires_grad_(True), rather than torch.tensor(sourceTensor).\n",
            "  train_inputs.append(torch.tensor(it[0]))\n",
            "<ipython-input-19-1305ba55557c>:21: UserWarning: To copy construct from a tensor, it is recommended to use sourceTensor.clone().detach() or sourceTensor.clone().detach().requires_grad_(True), rather than torch.tensor(sourceTensor).\n",
            "  val_inputs.append(torch.tensor(it[0]))\n",
            "<ipython-input-84-bacae5332154>:23: UserWarning: To copy construct from a tensor, it is recommended to use sourceTensor.clone().detach() or sourceTensor.clone().detach().requires_grad_(True), rather than torch.tensor(sourceTensor).\n",
            "  label = torch.tensor(label, dtype=torch.float32)\n"
          ]
        },
        {
          "output_type": "stream",
          "name": "stdout",
          "text": [
            "lossccc=tensor(0.9999, device='cuda:0', grad_fn=<RsubBackward1>)\n",
            "Epoch [1/50], TrainLoss: 1.5879,TestLoss: 0.6398,TestRMSELoss: 0.5998,TestCCCLoss: 0.9999\n",
            "lossccc=tensor(1.0000, device='cuda:0', grad_fn=<RsubBackward1>)\n",
            "Epoch [2/50], TrainLoss: 1.2151,TestLoss: 0.4296,TestRMSELoss: 0.3662,TestCCCLoss: 1.0000\n",
            "lossccc=tensor(0.9999, device='cuda:0', grad_fn=<RsubBackward1>)\n",
            "Epoch [3/50], TrainLoss: 0.8593,TestLoss: 0.8574,TestRMSELoss: 0.8416,TestCCCLoss: 0.9999\n",
            "lossccc=tensor(1.0000, device='cuda:0', grad_fn=<RsubBackward1>)\n",
            "Epoch [4/50], TrainLoss: 0.6859,TestLoss: 0.5476,TestRMSELoss: 0.4973,TestCCCLoss: 1.0000\n",
            "lossccc=tensor(1.0000, device='cuda:0', grad_fn=<RsubBackward1>)\n",
            "Epoch [5/50], TrainLoss: 0.5607,TestLoss: 0.3989,TestRMSELoss: 0.3322,TestCCCLoss: 1.0000\n",
            "lossccc=tensor(1.0000, device='cuda:0', grad_fn=<RsubBackward1>)\n",
            "Epoch [6/50], TrainLoss: 0.4565,TestLoss: 0.4870,TestRMSELoss: 0.4300,TestCCCLoss: 1.0000\n",
            "lossccc=tensor(1.0000, device='cuda:0', grad_fn=<RsubBackward1>)\n",
            "Epoch [7/50], TrainLoss: 0.5865,TestLoss: 0.6444,TestRMSELoss: 0.6049,TestCCCLoss: 1.0000\n",
            "lossccc=tensor(1.0000, device='cuda:0', grad_fn=<RsubBackward1>)\n",
            "Epoch [8/50], TrainLoss: 0.5187,TestLoss: 0.5027,TestRMSELoss: 0.4475,TestCCCLoss: 1.0000\n",
            "lossccc=tensor(1.0000, device='cuda:0', grad_fn=<RsubBackward1>)\n",
            "Epoch [9/50], TrainLoss: 0.3803,TestLoss: 0.3728,TestRMSELoss: 0.3031,TestCCCLoss: 1.0000\n",
            "lossccc=tensor(1.0000, device='cuda:0', grad_fn=<RsubBackward1>)\n",
            "Epoch [10/50], TrainLoss: 0.2914,TestLoss: 0.4010,TestRMSELoss: 0.3344,TestCCCLoss: 1.0000\n",
            "lossccc=tensor(1.0000, device='cuda:0', grad_fn=<RsubBackward1>)\n",
            "Epoch [11/50], TrainLoss: 0.4069,TestLoss: 0.3898,TestRMSELoss: 0.3220,TestCCCLoss: 1.0000\n",
            "lossccc=tensor(0.9999, device='cuda:0', grad_fn=<RsubBackward1>)\n",
            "Epoch [12/50], TrainLoss: 0.3849,TestLoss: 0.3001,TestRMSELoss: 0.2224,TestCCCLoss: 0.9999\n",
            "lossccc=tensor(1.0000, device='cuda:0', grad_fn=<RsubBackward1>)\n",
            "Epoch [13/50], TrainLoss: 0.3856,TestLoss: 0.3209,TestRMSELoss: 0.2455,TestCCCLoss: 1.0000\n",
            "lossccc=tensor(1.0000, device='cuda:0', grad_fn=<RsubBackward1>)\n",
            "Epoch [14/50], TrainLoss: 0.3731,TestLoss: 0.3684,TestRMSELoss: 0.2982,TestCCCLoss: 1.0000\n",
            "lossccc=tensor(1.0000, device='cuda:0', grad_fn=<RsubBackward1>)\n",
            "Epoch [15/50], TrainLoss: 0.2603,TestLoss: 0.3258,TestRMSELoss: 0.2509,TestCCCLoss: 1.0000\n",
            "lossccc=tensor(1.0000, device='cuda:0', grad_fn=<RsubBackward1>)\n",
            "Epoch [16/50], TrainLoss: 0.2425,TestLoss: 0.3429,TestRMSELoss: 0.2699,TestCCCLoss: 1.0000\n",
            "lossccc=tensor(1.0000, device='cuda:0', grad_fn=<RsubBackward1>)\n",
            "Epoch [17/50], TrainLoss: 0.3019,TestLoss: 0.3736,TestRMSELoss: 0.3040,TestCCCLoss: 1.0000\n",
            "lossccc=tensor(1.0000, device='cuda:0', grad_fn=<RsubBackward1>)\n",
            "Epoch [18/50], TrainLoss: 0.2590,TestLoss: 0.3136,TestRMSELoss: 0.2373,TestCCCLoss: 1.0000\n",
            "lossccc=tensor(1.0000, device='cuda:0', grad_fn=<RsubBackward1>)\n",
            "Epoch [19/50], TrainLoss: 0.2811,TestLoss: 0.3205,TestRMSELoss: 0.2450,TestCCCLoss: 1.0000\n",
            "lossccc=tensor(1.0000, device='cuda:0', grad_fn=<RsubBackward1>)\n",
            "Epoch [20/50], TrainLoss: 0.3359,TestLoss: 0.3519,TestRMSELoss: 0.2799,TestCCCLoss: 1.0000\n",
            "lossccc=tensor(1.0000, device='cuda:0', grad_fn=<RsubBackward1>)\n",
            "Epoch [21/50], TrainLoss: 0.2810,TestLoss: 0.3149,TestRMSELoss: 0.2388,TestCCCLoss: 1.0000\n",
            "lossccc=tensor(1.0000, device='cuda:0', grad_fn=<RsubBackward1>)\n",
            "Epoch [22/50], TrainLoss: 0.2531,TestLoss: 0.3300,TestRMSELoss: 0.2556,TestCCCLoss: 1.0000\n",
            "lossccc=tensor(1.0000, device='cuda:0', grad_fn=<RsubBackward1>)\n",
            "Epoch [23/50], TrainLoss: 0.2835,TestLoss: 0.3507,TestRMSELoss: 0.2785,TestCCCLoss: 1.0000\n",
            "lossccc=tensor(1.0000, device='cuda:0', grad_fn=<RsubBackward1>)\n",
            "Epoch [24/50], TrainLoss: 0.2396,TestLoss: 0.3224,TestRMSELoss: 0.2471,TestCCCLoss: 1.0000\n",
            "lossccc=tensor(1.0000, device='cuda:0', grad_fn=<RsubBackward1>)\n",
            "Epoch [25/50], TrainLoss: 0.2508,TestLoss: 0.3387,TestRMSELoss: 0.2653,TestCCCLoss: 1.0000\n",
            "lossccc=tensor(1.0000, device='cuda:0', grad_fn=<RsubBackward1>)\n",
            "Epoch [26/50], TrainLoss: 0.2719,TestLoss: 0.3311,TestRMSELoss: 0.2568,TestCCCLoss: 1.0000\n",
            "lossccc=tensor(1.0000, device='cuda:0', grad_fn=<RsubBackward1>)\n",
            "Epoch [27/50], TrainLoss: 0.2564,TestLoss: 0.3249,TestRMSELoss: 0.2498,TestCCCLoss: 1.0000\n",
            "lossccc=tensor(1.0000, device='cuda:0', grad_fn=<RsubBackward1>)\n",
            "Epoch [28/50], TrainLoss: 0.2625,TestLoss: 0.3393,TestRMSELoss: 0.2659,TestCCCLoss: 1.0000\n",
            "lossccc=tensor(1.0000, device='cuda:0', grad_fn=<RsubBackward1>)\n",
            "Epoch [29/50], TrainLoss: 0.2462,TestLoss: 0.3266,TestRMSELoss: 0.2518,TestCCCLoss: 1.0000\n",
            "lossccc=tensor(1.0000, device='cuda:0', grad_fn=<RsubBackward1>)\n",
            "Epoch [30/50], TrainLoss: 0.2370,TestLoss: 0.3353,TestRMSELoss: 0.2614,TestCCCLoss: 1.0000\n",
            "lossccc=tensor(1.0000, device='cuda:0', grad_fn=<RsubBackward1>)\n",
            "Epoch [31/50], TrainLoss: 0.2509,TestLoss: 0.3341,TestRMSELoss: 0.2601,TestCCCLoss: 1.0000\n",
            "lossccc=tensor(1.0000, device='cuda:0', grad_fn=<RsubBackward1>)\n",
            "Epoch [32/50], TrainLoss: 0.2451,TestLoss: 0.3276,TestRMSELoss: 0.2529,TestCCCLoss: 1.0000\n",
            "lossccc=tensor(1.0000, device='cuda:0', grad_fn=<RsubBackward1>)\n",
            "Epoch [33/50], TrainLoss: 0.2516,TestLoss: 0.3348,TestRMSELoss: 0.2609,TestCCCLoss: 1.0000\n",
            "lossccc=tensor(1.0000, device='cuda:0', grad_fn=<RsubBackward1>)\n",
            "Epoch [34/50], TrainLoss: 0.2437,TestLoss: 0.3296,TestRMSELoss: 0.2551,TestCCCLoss: 1.0000\n",
            "lossccc=tensor(1.0000, device='cuda:0', grad_fn=<RsubBackward1>)\n",
            "Epoch [35/50], TrainLoss: 0.2394,TestLoss: 0.3341,TestRMSELoss: 0.2601,TestCCCLoss: 1.0000\n",
            "lossccc=tensor(1.0000, device='cuda:0', grad_fn=<RsubBackward1>)\n",
            "Epoch [36/50], TrainLoss: 0.2384,TestLoss: 0.3310,TestRMSELoss: 0.2566,TestCCCLoss: 1.0000\n",
            "lossccc=tensor(1.0000, device='cuda:0', grad_fn=<RsubBackward1>)\n",
            "Epoch [37/50], TrainLoss: 0.2360,TestLoss: 0.3321,TestRMSELoss: 0.2579,TestCCCLoss: 1.0000\n",
            "lossccc=tensor(1.0000, device='cuda:0', grad_fn=<RsubBackward1>)\n",
            "Epoch [38/50], TrainLoss: 0.2412,TestLoss: 0.3303,TestRMSELoss: 0.2559,TestCCCLoss: 1.0000\n",
            "lossccc=tensor(1.0000, device='cuda:0', grad_fn=<RsubBackward1>)\n",
            "Epoch [39/50], TrainLoss: 0.2374,TestLoss: 0.3303,TestRMSELoss: 0.2559,TestCCCLoss: 1.0000\n",
            "lossccc=tensor(1.0000, device='cuda:0', grad_fn=<RsubBackward1>)\n",
            "Epoch [40/50], TrainLoss: 0.2370,TestLoss: 0.3339,TestRMSELoss: 0.2598,TestCCCLoss: 1.0000\n",
            "lossccc=tensor(1.0000, device='cuda:0', grad_fn=<RsubBackward1>)\n",
            "Epoch [41/50], TrainLoss: 0.2372,TestLoss: 0.3304,TestRMSELoss: 0.2560,TestCCCLoss: 1.0000\n",
            "lossccc=tensor(1.0000, device='cuda:0', grad_fn=<RsubBackward1>)\n",
            "Epoch [42/50], TrainLoss: 0.2237,TestLoss: 0.3331,TestRMSELoss: 0.2590,TestCCCLoss: 1.0000\n",
            "lossccc=tensor(1.0000, device='cuda:0', grad_fn=<RsubBackward1>)\n",
            "Epoch [43/50], TrainLoss: 0.2351,TestLoss: 0.3295,TestRMSELoss: 0.2550,TestCCCLoss: 1.0000\n",
            "lossccc=tensor(1.0000, device='cuda:0', grad_fn=<RsubBackward1>)\n",
            "Epoch [44/50], TrainLoss: 0.2225,TestLoss: 0.3303,TestRMSELoss: 0.2559,TestCCCLoss: 1.0000\n",
            "lossccc=tensor(1.0000, device='cuda:0', grad_fn=<RsubBackward1>)\n",
            "Epoch [45/50], TrainLoss: 0.2357,TestLoss: 0.3236,TestRMSELoss: 0.2484,TestCCCLoss: 1.0000\n",
            "lossccc=tensor(1.0000, device='cuda:0', grad_fn=<RsubBackward1>)\n",
            "Epoch [46/50], TrainLoss: 0.2126,TestLoss: 0.3516,TestRMSELoss: 0.2796,TestCCCLoss: 1.0000\n",
            "lossccc=tensor(1.0000, device='cuda:0', grad_fn=<RsubBackward1>)\n",
            "Epoch [47/50], TrainLoss: 0.3178,TestLoss: 0.3189,TestRMSELoss: 0.2432,TestCCCLoss: 1.0000\n",
            "lossccc=tensor(1.0000, device='cuda:0', grad_fn=<RsubBackward1>)\n",
            "Epoch [48/50], TrainLoss: 0.2691,TestLoss: 0.3767,TestRMSELoss: 0.3075,TestCCCLoss: 1.0000\n",
            "lossccc=tensor(1.0000, device='cuda:0', grad_fn=<RsubBackward1>)\n",
            "Epoch [49/50], TrainLoss: 0.5056,TestLoss: 0.3865,TestRMSELoss: 0.3184,TestCCCLoss: 1.0000\n",
            "lossccc=tensor(0.9999, device='cuda:0', grad_fn=<RsubBackward1>)\n",
            "Epoch [50/50], TrainLoss: 0.2999,TestLoss: 0.2834,TestRMSELoss: 0.2037,TestCCCLoss: 0.9999\n"
          ]
        },
        {
          "output_type": "display_data",
          "data": {
            "text/plain": [
              "<Figure size 640x480 with 1 Axes>"
            ],
            "image/png": "[encoded data removed]"
          },
          "metadata": {}
        },
        {
          "output_type": "display_data",
          "data": {
            "text/plain": [
              "<Figure size 640x480 with 1 Axes>"
            ],
            "image/png": "[encoded data removed]"
          },
          "metadata": {}
        }
      ]
    }
  ],
  "metadata": {
    "accelerator": "GPU",
    "colab": {
      "gpuType": "V100",
      "provenance": [],
      "collapsed_sections": [
        "xdnJ7GzybB1N"
      ]
    },
    "kernelspec": {
      "display_name": "Python 3",
      "name": "python3"
    },
    "language_info": {
      "codemirror_mode": {
        "name": "ipython",
        "version": 3
      },
      "file_extension": ".py",
      "mimetype": "text/x-python",
      "name": "python",
      "nbconvert_exporter": "python",
      "pygments_lexer": "ipython3",
      "version": "3.8.13"
    }
  },
  "nbformat": 4,
  "nbformat_minor": 0
}